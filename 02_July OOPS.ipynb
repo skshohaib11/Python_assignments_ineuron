{
 "cells": [
  {
   "cell_type": "markdown",
   "id": "962f80f7",
   "metadata": {},
   "source": [
    "1. Explain what inheritance is in object-oriented programming and why it is used.\n",
    "#### Solution:\n",
    "Inheritance is a fundamental concept in object-oriented programming (OOP) that allows one class to inherit the properties and behaviors (i.e., attributes and methods) of another class. It is a mechanism that promotes code reuse and the creation of a hierarchy of classes. \n",
    "Inheritance is used for several reasons like: code reusability, polymorphism etc.\n",
    "\n",
    "\n",
    "2. Discuss the concept of single inheritance and multiple inheritance, highlighting their differences and advantages.\n",
    "#### Solution:\n",
    "Single Inheritance and Multiple Inheritance are two different approaches to class inheritance in object-oriented programming. They have distinct characteristics, advantages, and challenges.\n",
    "\n",
    "Single Inheritance:\n",
    "\n",
    "   - Definition: Single Inheritance is an inheritance model where a subclass can inherit from only one superclass. In other words, a class can have only one direct parent class.\n",
    "\n",
    "\n",
    " - Advantages:\n",
    "   - Simplicity: Single Inheritance leads to a simpler class hierarchy, which can be easier to understand and maintain.\n",
    "      Avoiding Diamond Problem: Single Inheritance avoids the \"Diamond Problem,\" which is a common issue in multiple   inheritance (explained below). The Diamond Problem occurs when a class inherits from two or more classes that have a common ancestor, leading to ambiguity in method and attribute resolution.\n",
    "\n",
    "    - Use Cases: Single Inheritance is often used in situations where class hierarchies are relatively straightforward, and   there is no need for a class to inherit from multiple, unrelated classes.\n",
    "\n",
    "\n",
    " - Multiple Inheritance:\n",
    "\n",
    "     - Definition: Multiple Inheritance is an inheritance model where a subclass can inherit from multiple superclasses. In other words, a class can have multiple direct parent classes.\n",
    "\n",
    "    - Advantages:\n",
    "\n",
    "        - Reusability: Multiple Inheritance allows for maximum code reusability. A class can inherit attributes and methods from several parent classes, making it versatile and efficient.\n",
    "        - Modeling Complex Relationships: Multiple Inheritance is useful when you need to model complex relationships or objects with characteristics from multiple sources. For instance, a class could inherit from both a \"Bird\" class and a \"Fish\" class to create a \"FlyingFish\" class that exhibits properties of both.\n",
    "\n",
    "\n",
    "3. Explain the terms \"base class\" and \"derived class\" in the context of inheritance.\n",
    "#### Solution:\n",
    "The terms \"base class\" and \"derived class\" are used to describe the relationship between two classes when implementing inheritance in object-oriented programming (OOP). These terms help define the roles and hierarchy of classes within an inheritance structure:\n",
    "\n",
    "- Base Class (Superclass or Parent Class):\n",
    "\n",
    "A base class is a class from which other classes inherit properties and behaviors. It serves as the foundation or template for one or more derived classes.\n",
    "The base class contains common attributes and methods that are shared by the derived classes. These attributes and methods are typically considered as the most general characteristics of a group of related classes.\n",
    "Base classes are sometimes referred to as \"superclasses\" or \"parent classes\" because they are the higher-level classes in the inheritance hierarchy.\n",
    "Base classes can be used to define a common interface or behavior that all derived classes should adhere to.\n",
    "\n",
    "- Derived Class (Subclass or Child Class):\n",
    "\n",
    "A derived class is a class that inherits attributes and methods from a base class. It extends or specializes the base class by adding more specific attributes or methods.\n",
    "Derived classes are sometimes referred to as \"subclasses\" or \"child classes\" because they are derived from and depend on a base class.\n",
    "Derived classes can also introduce new attributes and methods, and they can override or modify the behavior of inherited methods to suit their specific needs.\n",
    "Inheritance allows a derived class to inherit the properties of one or more base classes, enabling code reuse and promoting the hierarchical organization of classes.\n",
    "\n",
    "\n",
    "4. What is the significance of the \"protected\" access modifier in inheritance? How does it differ from \"private\" and \"public\" modifiers?\n",
    "#### Solution:\n",
    "Access modifiers (or access specifiers) control the visibility of class members (attributes and methods) from other classes.\n",
    "There are three common access modifiers: \"public,\" \"private,\" and \"protected.\" The \"protected\" access modifier plays a significant role in inheritance and differs from \"private\" and \"public\" in the following ways:\n",
    "\n",
    "- Public Access Modifier:\n",
    "\n",
    "Members declared as \"public\" are accessible from anywhere, both within the same class and from external classes.\n",
    "They have the least restriction on access and can be freely used and modified.\n",
    "Public members are generally considered part of the class's public interface, and they can be accessed directly by objects of the class.\n",
    "\n",
    "- Private Access Modifier:\n",
    "\n",
    "Members declared as \"private\" are accessible only within the class in which they are defined.\n",
    "They are not accessible from external classes or derived classes.\n",
    "Private members are used to hide the internal implementation details of a class from the outside world, providing encapsulation and data protection.\n",
    "\n",
    "- Protected Access Modifier:\n",
    "\n",
    "Members declared as \"protected\" are accessible within the class where they are defined, in derived classes, and also within the same package (in languages that support package-level access).\n",
    "They are not accessible from external classes that are not derived from the class.\n",
    "Protected members allow derived classes to access and extend the behavior of the base class, which is particularly useful in inheritance scenarios.\n",
    "\n",
    "\n",
    "5. What is the purpose of the \"super\" keyword in inheritance? Provide an example.\n",
    "#### Solution:\n",
    "The \"super\" keyword in object-oriented programming serves the purpose of calling a method or constructor from the superclass (base class) when working within a derived class. It allows you to access and invoke the behavior defined in the superclass, providing a way to extend or customize that behavior in the context of the derived class. The \"super\" keyword is particularly useful when you want to override a method in the derived class while still using the functionality of the base class.\n",
    "#### Example"
   ]
  },
  {
   "cell_type": "code",
   "execution_count": 3,
   "id": "5402d9f0",
   "metadata": {},
   "outputs": [
    {
     "name": "stdout",
     "output_type": "stream",
     "text": [
      "This is a Toyota Camry.\n",
      "It has 4 doors.\n"
     ]
    }
   ],
   "source": [
    "class Vehicle:\n",
    "    def __init__(self, brand, model):\n",
    "        self.brand = brand\n",
    "        self.model = model\n",
    "\n",
    "    def display_info(self):\n",
    "        print(f\"This is a {self.brand} {self.model}.\")\n",
    "\n",
    "class Car(Vehicle):\n",
    "    def __init__(self, brand, model, num_doors):\n",
    "        super().__init__(brand, model)  # Call the constructor of the base class\n",
    "        self.num_doors = num_doors\n",
    "\n",
    "    def display_info(self):\n",
    "        super().display_info()  # Call the base class method\n",
    "        print(f\"It has {self.num_doors} doors.\")\n",
    "\n",
    "# Create an object of the derived class\n",
    "my_car = Car(\"Toyota\", \"Camry\", 4)\n",
    "\n",
    "# Call the method from the derived class\n",
    "my_car.display_info()\n"
   ]
  },
  {
   "cell_type": "markdown",
   "id": "d8de5f93",
   "metadata": {},
   "source": [
    "6. Create a base class called \"Vehicle\" with attributes like \"make\", \"model\", and \"year\". Then, create a derived class called \"Car\" that inherits from \"Vehicle\" and adds an attribute called \"fuel_type\". Implement appropriate methods in both classes.\n",
    "#### Solution:"
   ]
  },
  {
   "cell_type": "code",
   "execution_count": 5,
   "id": "3b568f0d",
   "metadata": {},
   "outputs": [
    {
     "name": "stdout",
     "output_type": "stream",
     "text": [
      "Make: Toyota, Model: Camry, Year: 2023\n",
      "Fuel Type: Gasoline\n"
     ]
    }
   ],
   "source": [
    "class Vehicle:\n",
    "    def __init__(self, make, model, year):\n",
    "        self.make = make\n",
    "        self.model = model\n",
    "        self.year = year\n",
    "\n",
    "    def display_info(self):\n",
    "        print(f\"Make: {self.make}, Model: {self.model}, Year: {self.year}\")\n",
    "\n",
    "class Car(Vehicle):\n",
    "    def __init__(self, make, model, year, fuel_type):\n",
    "        super().__init__(make, model, year)  # Call the constructor of the base class\n",
    "        self.fuel_type = fuel_type\n",
    "\n",
    "    def display_info(self):\n",
    "        super().display_info()  # Call the base class method\n",
    "        print(f\"Fuel Type: {self.fuel_type}\")\n",
    "\n",
    "# Create objects of the derived class\n",
    "my_car = Car(\"Toyota\", \"Camry\", 2023, \"Gasoline\")\n",
    "\n",
    "# Call methods to display information\n",
    "my_car.display_info()\n"
   ]
  },
  {
   "cell_type": "markdown",
   "id": "33e349a4",
   "metadata": {},
   "source": [
    "7. Create a base class called \"Employee\" with attributes like \"name\" and \"salary.\" Derive two classes, \"Manager\" and \"Developer,\" from \"Employee.\" Add an additional attribute called \"department\" for the \"Manager\" class and \"programming_language\" for the \"Developer\" class.\n",
    "#### Solution:"
   ]
  },
  {
   "cell_type": "code",
   "execution_count": 8,
   "id": "be610614",
   "metadata": {},
   "outputs": [
    {
     "name": "stdout",
     "output_type": "stream",
     "text": [
      "Name: Alice, Salary: ₹80000.00\n",
      "Department: HR\n",
      "Name: Bob, Salary: ₹70000.00\n",
      "Programming Language: Python\n"
     ]
    }
   ],
   "source": [
    "class Employee:\n",
    "    def __init__(self, name, salary):\n",
    "        self.name = name\n",
    "        self.salary = salary\n",
    "\n",
    "    def display_info(self):\n",
    "        print(f\"Name: {self.name}, Salary: ₹{self.salary:.2f}\")\n",
    "\n",
    "class Manager(Employee):\n",
    "    def __init__(self, name, salary, department):\n",
    "        super().__init__(name, salary)\n",
    "        self.department = department\n",
    "\n",
    "    def display_info(self):\n",
    "        super().display_info()\n",
    "        print(f\"Department: {self.department}\")\n",
    "\n",
    "class Developer(Employee):\n",
    "    def __init__(self, name, salary, programming_language):\n",
    "        super().__init__(name, salary)\n",
    "        self.programming_language = programming_language\n",
    "\n",
    "    def display_info(self):\n",
    "        super().display_info()\n",
    "        print(f\"Programming Language: {self.programming_language}\")\n",
    "\n",
    "# Create objects of the derived classes\n",
    "manager = Manager(\"Alice\", 80000, \"HR\")\n",
    "developer = Developer(\"Bob\", 70000, \"Python\")\n",
    "\n",
    "# Call methods to display information\n",
    "manager.display_info()\n",
    "developer.display_info()\n"
   ]
  },
  {
   "cell_type": "markdown",
   "id": "cdafa225",
   "metadata": {},
   "source": [
    "8. Design a base class called \"Shape\" with attributes like \"colour\" and \"border_width.\" Create derived classes, \"Rectangle\" and \"Circle,\" that inherit from \"Shape\" and add specific attributes like \"length\" and \"width\" for the \"Rectangle\" class and \"radius\" for the \"Circle\" class.\n",
    "#### Solution:"
   ]
  },
  {
   "cell_type": "code",
   "execution_count": 10,
   "id": "7bc95320",
   "metadata": {},
   "outputs": [
    {
     "name": "stdout",
     "output_type": "stream",
     "text": [
      "Color: Blue, Border Width: 2\n",
      "Shape: Rectangle, Length: 10, Width: 5\n",
      "Color: Red, Border Width: 1\n",
      "Shape: Circle, Radius: 7\n"
     ]
    }
   ],
   "source": [
    "class Shape:\n",
    "    def __init__(self, colour, border_width):\n",
    "        self.colour = colour\n",
    "        self.border_width = border_width\n",
    "\n",
    "    def display_info(self):\n",
    "        print(f\"Color: {self.colour}, Border Width: {self.border_width}\")\n",
    "\n",
    "class Rectangle(Shape):\n",
    "    def __init__(self, colour, border_width, length, width):\n",
    "        super().__init__(colour, border_width)\n",
    "        self.length = length\n",
    "        self.width = width\n",
    "\n",
    "    def display_info(self):\n",
    "        super().display_info()\n",
    "        print(f\"Shape: Rectangle, Length: {self.length}, Width: {self.width}\")\n",
    "\n",
    "class Circle(Shape):\n",
    "    def __init__(self, colour, border_width, radius):\n",
    "        super().__init__(colour, border_width)\n",
    "        self.radius = radius\n",
    "\n",
    "    def display_info(self):\n",
    "        super().display_info()\n",
    "        print(f\"Shape: Circle, Radius: {self.radius}\")\n",
    "\n",
    "# Create objects of the derived classes\n",
    "rectangle = Rectangle(\"Blue\", 2, 10, 5)\n",
    "circle = Circle(\"Red\", 1, 7)\n",
    "\n",
    "# Call methods to display information\n",
    "rectangle.display_info()\n",
    "circle.display_info()\n"
   ]
  },
  {
   "cell_type": "markdown",
   "id": "c148ca10",
   "metadata": {},
   "source": [
    "9. Create a base class called \"Device\" with attributes like \"brand\" and \"model.\" Derive two classes, \"Phone\" and \"Tablet,\" from \"Device.\" Add specific attributes like \"screen_size\" for the \"Phone\" class and \"battery_capacity\" for the \"Tablet\" class.\n",
    "#### Solution:"
   ]
  },
  {
   "cell_type": "code",
   "execution_count": 11,
   "id": "f9ab5875",
   "metadata": {},
   "outputs": [
    {
     "name": "stdout",
     "output_type": "stream",
     "text": [
      "Brand: Samsung, Model: Galaxy S21\n",
      "Type: Phone, Screen Size: 6.2 inches\n",
      "Brand: Apple, Model: iPad Air\n",
      "Type: Tablet, Battery Capacity: 8827 mAh\n"
     ]
    }
   ],
   "source": [
    "class Device:\n",
    "    def __init__(self, brand, model):\n",
    "        self.brand = brand\n",
    "        self.model = model\n",
    "\n",
    "    def display_info(self):\n",
    "        print(f\"Brand: {self.brand}, Model: {self.model}\")\n",
    "\n",
    "class Phone(Device):\n",
    "    def __init__(self, brand, model, screen_size):\n",
    "        super().__init__(brand, model)\n",
    "        self.screen_size = screen_size\n",
    "\n",
    "    def display_info(self):\n",
    "        super().display_info()\n",
    "        print(f\"Type: Phone, Screen Size: {self.screen_size} inches\")\n",
    "\n",
    "class Tablet(Device):\n",
    "    def __init__(self, brand, model, battery_capacity):\n",
    "        super().__init__(brand, model)\n",
    "        self.battery_capacity = battery_capacity\n",
    "\n",
    "    def display_info(self):\n",
    "        super().display_info()\n",
    "        print(f\"Type: Tablet, Battery Capacity: {self.battery_capacity} mAh\")\n",
    "\n",
    "# Create objects of the derived classes\n",
    "phone = Phone(\"Samsung\", \"Galaxy S21\", 6.2)\n",
    "tablet = Tablet(\"Apple\", \"iPad Air\", 8827)\n",
    "\n",
    "# Call methods to display information\n",
    "phone.display_info()\n",
    "tablet.display_info()\n"
   ]
  },
  {
   "cell_type": "markdown",
   "id": "85e84371",
   "metadata": {},
   "source": [
    "10. Create a base class called \"BankAccount\" with attributes like \"account_number\" and \"balance.\" Derive two classes, \"SavingsAccount\" and \"CheckingAccount,\" from \"BankAccount.\" Add specific methods like \"calculate_interest\" for the \"SavingsAccount\" class and \"deduct_fees\" for the \"CheckingAccount\" class.\n",
    "#### Solution:"
   ]
  },
  {
   "cell_type": "code",
   "execution_count": 12,
   "id": "556267c0",
   "metadata": {},
   "outputs": [
    {
     "name": "stdout",
     "output_type": "stream",
     "text": [
      "Account Number: S12345, Balance: ₹1000.00\n",
      "Interest Earned: ₹25.00\n",
      "Account Number: C67890, Balance: ₹1500.00\n",
      "Fees Deducted: ₹5.00\n"
     ]
    }
   ],
   "source": [
    "class BankAccount:\n",
    "    def __init__(self, account_number, balance):\n",
    "        self.account_number = account_number\n",
    "        self.balance = balance\n",
    "\n",
    "    def display_info(self):\n",
    "        print(f\"Account Number: {self.account_number}, Balance: ₹{self.balance:.2f}\")\n",
    "\n",
    "class SavingsAccount(BankAccount):\n",
    "    def __init__(self, account_number, balance, interest_rate):\n",
    "        super().__init__(account_number, balance)\n",
    "        self.interest_rate = interest_rate\n",
    "\n",
    "    def calculate_interest(self):\n",
    "        interest_earned = self.balance * self.interest_rate / 100\n",
    "        self.balance += interest_earned\n",
    "        print(f\"Interest Earned: ₹{interest_earned:.2f}\")\n",
    "\n",
    "class CheckingAccount(BankAccount):\n",
    "    def __init__(self, account_number, balance, fee):\n",
    "        super().__init__(account_number, balance)\n",
    "        self.fee = fee\n",
    "\n",
    "    def deduct_fees(self):\n",
    "        self.balance -= self.fee\n",
    "        print(f\"Fees Deducted: ₹{self.fee:.2f}\")\n",
    "\n",
    "# Create objects of the derived classes\n",
    "savings_account = SavingsAccount(\"S12345\", 1000.0, 2.5)\n",
    "checking_account = CheckingAccount(\"C67890\", 1500.0, 5.0)\n",
    "\n",
    "# Call methods to display information and perform specific actions\n",
    "savings_account.display_info()\n",
    "savings_account.calculate_interest()\n",
    "\n",
    "checking_account.display_info()\n",
    "checking_account.deduct_fees()\n"
   ]
  },
  {
   "cell_type": "code",
   "execution_count": null,
   "id": "08b6f140",
   "metadata": {},
   "outputs": [],
   "source": []
  }
 ],
 "metadata": {
  "kernelspec": {
   "display_name": "Python 3 (ipykernel)",
   "language": "python",
   "name": "python3"
  },
  "language_info": {
   "codemirror_mode": {
    "name": "ipython",
    "version": 3
   },
   "file_extension": ".py",
   "mimetype": "text/x-python",
   "name": "python",
   "nbconvert_exporter": "python",
   "pygments_lexer": "ipython3",
   "version": "3.9.13"
  }
 },
 "nbformat": 4,
 "nbformat_minor": 5
}
