{
 "cells": [
  {
   "cell_type": "markdown",
   "id": "8546cff2",
   "metadata": {},
   "source": [
    "1. What is the role of try and exception block?\n",
    "#### Solution:\n",
    "Try and except block is used for error handling in programming.\n",
    "- In try block there is a piece of code where a potential error might occur. once the error occurs in this block it will jump to the corresponding exception block.\n",
    "- In except block you specify what action to take when a particular exception is reaised in try block. It contains the code that handles the exception which can include logging the error, displaying amessage to user related to the error or any corrective measures to be taken for that particular error.\n",
    "\n",
    "\n",
    "2. What is the syntax for a basic try-except block?\n",
    "#### Solution:"
   ]
  },
  {
   "cell_type": "raw",
   "id": "4d781213",
   "metadata": {},
   "source": [
    "try:\n",
    "     #Code that may raise an exception\n",
    "except ExceptionType:\n",
    "     #Code to handle the exception"
   ]
  },
  {
   "cell_type": "markdown",
   "id": "b6cd28a6",
   "metadata": {},
   "source": [
    "3. What happens if an exception occurs inside a try block and there is no matching except block?\n",
    "#### Solution:\n",
    "If an exception is occured in the \"try\" block and there is no 'except' block to handle that exception, the program will terminate and an unhandled exception error will be raised."
   ]
  },
  {
   "cell_type": "markdown",
   "id": "e9e8e566",
   "metadata": {},
   "source": [
    "4. What is the difference between using a bare except block and specifying a specific exception type?\n",
    "#### Solution:\n",
    "Using a bare 'except' block and specifying a specific exception type are teo different approaches to haandling exceptions in programming.\n",
    "- In specific exception type:\n",
    "    - When you specify a specific exception type in 'except' block, you are trying to catch or handle a particular type of exception.\n",
    "    - This allows us to segregate different types of exceptions in distinct ways.\n",
    "    - It is a best practice as it provides clear and precise error handling.\n",
    "- In bare except block:\n",
    "    - A bare except block without specifying a specific exception type, catches all the exceptions that inherit from 'exception' class or similar base exception class.\n",
    "    - This exception is more general and catches all the types of exceptions.\n",
    "    - It can make harder to debug issues because you wont have specific information about the type of exception that occured.\n"
   ]
  },
  {
   "cell_type": "markdown",
   "id": "b128eefc",
   "metadata": {},
   "source": [
    "5. Can you have nested try-except blocks in Python? If yes, then give an example.\n",
    "#### Solution:\n",
    "Yes, we can have nested try-except blocks in python as this helps to handle exceptions at different levels of code. providing more fine grained error handling."
   ]
  },
  {
   "cell_type": "code",
   "execution_count": 33,
   "id": "3d768671",
   "metadata": {},
   "outputs": [
    {
     "name": "stdout",
     "output_type": "stream",
     "text": [
      "Enter a numerator: 15\n",
      "Enter a denominator: 0\n",
      "Error: Division by zero in the inner try-except block.\n",
      "Outer try-except block executed successfully.\n"
     ]
    }
   ],
   "source": [
    "#Example for nested try block:\n",
    "try:\n",
    "    # Outer try block\n",
    "    numerator = int(input(\"Enter a numerator: \"))\n",
    "    denominator = int(input(\"Enter a denominator: \"))\n",
    "\n",
    "    try:\n",
    "        # Inner try block\n",
    "        result = numerator / denominator\n",
    "    except ZeroDivisionError:\n",
    "        print(\"Error: Division by zero in the inner try-except block.\")\n",
    "    except ValueError:\n",
    "        print(\"Error: Invalid input in the inner try-except block.\")\n",
    "    else:\n",
    "        print(\"Result of division:\", result)\n",
    "\n",
    "except ZeroDivisionError:\n",
    "    print(\"Error: Division by zero in the outer try-except block.\")\n",
    "except ValueError:\n",
    "    print(\"Error: Invalid input in the outer try-except block.\")\n",
    "else:\n",
    "    print(\"Outer try-except block executed successfully.\")\n"
   ]
  },
  {
   "cell_type": "markdown",
   "id": "5ab6ff9e",
   "metadata": {},
   "source": [
    "6. Can we use multiple exception blocks, if yes then give an example.\n",
    "#### Solution: \n",
    "Yes, we can use multiple except block to handle different types of exception in python."
   ]
  },
  {
   "cell_type": "code",
   "execution_count": 9,
   "id": "9bb035d0",
   "metadata": {},
   "outputs": [
    {
     "name": "stdout",
     "output_type": "stream",
     "text": [
      "Enter a number: 26k\n",
      "ValueError: Invalid input. Please enter a valid number.\n"
     ]
    }
   ],
   "source": [
    "#Example for nested except block:\n",
    "try:\n",
    "    num = int(input(\"Enter a number: \"))\n",
    "    result = 10 / num\n",
    "except ValueError:\n",
    "    print(\"ValueError: Invalid input. Please enter a valid number.\")\n",
    "except ZeroDivisionError:\n",
    "    print(\"ZeroDivisionError: Cannot divide by zero.\")\n",
    "except Exception as e:\n",
    "    print(f\"An unexpected error occurred: {e}\")\n",
    "else:\n",
    "    print(\"Result:\", result)\n"
   ]
  },
  {
   "cell_type": "markdown",
   "id": "9e39e570",
   "metadata": {},
   "source": [
    "7. Write the reason due to which following errors are raised:\n",
    "- a. EOFError\n",
    "- b. FloatingPointError\n",
    "- c. IndexError\n",
    "- d. MemoryError\n",
    "- e. OverflowError\n",
    "- f. TabError\n",
    "- g. ValueError\n",
    "    \n",
    "#### Solution:\n",
    "a. EOFError (End of file error): The error is raised when a input operation is reaches the end of a file and unexpectedly there is no data to read.\n",
    "\n",
    "b. FloatingPointError: This error occurs when an arithmatic operation involving floating-point numbers results in an exceptional condition, such as dividing by zero or generating an invalid floating-point value.\n",
    "\n",
    "c. IndexError: This error is raised when you try to access an index of a sequence(like a list or a string) that is out of range., i.e., an index that does not exsist in the sequence.\n",
    "\n",
    "d. MemoryError: This error occurs when there is not enough memory available to allocate an object, typically due to the system's memory resources being exhausted.\n",
    "\n",
    "e. OverflowError: This error is raised when a numerical operation results in a value that exceeds the maximum representable value for a numeric data type, such as an integer.\n",
    "\n",
    "f. TabError: This error is raised when there is an issue with the indentation of code, particularly when mixing tabs and spaces inconsistently in the same block of code.\n",
    "\n",
    "g. ValueError: This error is raised when an operation or function receives an argument of the correct data type but with an inappropriate or invalid value. For example, trying to convert a string that does not represent a valid integer to an integer using int() would raise a ValueError.\n",
    "\n"
   ]
  },
  {
   "cell_type": "markdown",
   "id": "18dd0947",
   "metadata": {},
   "source": [
    "8. Write code for the following given scenario and add try-exception block to it.\n",
    "- a. Program to divide two numbers\n",
    "- b. Program to convert a string to an integer\n",
    "- c. Program to access an element in a list\n",
    "- d. Program to handle a specific exception\n",
    "- e. Program to handle any exception"
   ]
  },
  {
   "cell_type": "code",
   "execution_count": 11,
   "id": "507f1116",
   "metadata": {},
   "outputs": [
    {
     "name": "stdout",
     "output_type": "stream",
     "text": [
      "Please enter a numerator: 10\n",
      "Please enter a denominator: 0\n",
      "Divison by zero is not allowed\n"
     ]
    }
   ],
   "source": [
    "#a. Program to divide two numbers:\n",
    "num = int(input(\"Please enter a numerator: \"))\n",
    "denom = int(input(\"Please enter a denominator: \"))\n",
    "try:\n",
    "    division = num/denom\n",
    "    print(division)\n",
    "except ZeroDivisionError:\n",
    "    print(\"Divison by zero is not allowed\")\n",
    "    "
   ]
  },
  {
   "cell_type": "code",
   "execution_count": 29,
   "id": "01804d57",
   "metadata": {},
   "outputs": [
    {
     "name": "stdout",
     "output_type": "stream",
     "text": [
      "Please enter a string: 10\n",
      "The data type before conversion:  <class 'str'>\n",
      "The string value has been successfully converted to integer 10\n",
      "The data type before conversion:  <class 'int'>\n"
     ]
    }
   ],
   "source": [
    "#b. Program to convert a string to an integer\n",
    "try:\n",
    "    string = str(input(\"Please enter a string: \"))\n",
    "    print(\"The data type before conversion: \",type(string))\n",
    "    converted_value = int(string)\n",
    "    print(\"The string value has been successfully converted to integer\", converted_value)\n",
    "    print(\"The data type before conversion: \",type(converted_value))\n",
    "except ValueError:\n",
    "    print(\"Error: Invalid input. The input string is not a valid integer\")\n",
    "    "
   ]
  },
  {
   "cell_type": "code",
   "execution_count": 30,
   "id": "3f04c00a",
   "metadata": {},
   "outputs": [
    {
     "name": "stdout",
     "output_type": "stream",
     "text": [
      "Enter an index: 5\n",
      "Error: Index out of range. Please enter a valid index.\n"
     ]
    }
   ],
   "source": [
    "#c. Program to access an element in a list:\n",
    "my_list = [1, 2, 3, 4, 5]\n",
    "try:\n",
    "    index = int(input(\"Enter an index: \"))\n",
    "    value = my_list[index]\n",
    "except IndexError:\n",
    "    print(\"Error: Index out of range. Please enter a valid index.\")\n",
    "else:\n",
    "    print(\"Value at index\", index, \"is\", value)\n",
    "   "
   ]
  },
  {
   "cell_type": "code",
   "execution_count": 31,
   "id": "42666983",
   "metadata": {},
   "outputs": [
    {
     "name": "stdout",
     "output_type": "stream",
     "text": [
      "Error: The variable is not defined.\n"
     ]
    }
   ],
   "source": [
    "#d. Program to handle a specific exception:\n",
    "try:\n",
    "    x = undefined_variable\n",
    "except NameError:\n",
    "    print(\"Error: The variable is not defined.\")\n"
   ]
  },
  {
   "cell_type": "code",
   "execution_count": 32,
   "id": "e709c0a2",
   "metadata": {},
   "outputs": [
    {
     "name": "stdout",
     "output_type": "stream",
     "text": [
      "Enter a number: 10\n",
      "Enter another number: 15\n",
      "Result: 0.6666666666666666\n"
     ]
    }
   ],
   "source": [
    "#e. Program to handle any exception\n",
    "try:\n",
    "    num1 = int(input(\"Enter a number: \"))\n",
    "    num2 = int(input(\"Enter another number: \"))\n",
    "    result = num1 / num2\n",
    "except Exception as e:\n",
    "    print(\"An error occurred:\", e)\n",
    "else:\n",
    "    print(\"Result:\", result)\n"
   ]
  },
  {
   "cell_type": "code",
   "execution_count": null,
   "id": "731707d0",
   "metadata": {},
   "outputs": [],
   "source": []
  }
 ],
 "metadata": {
  "kernelspec": {
   "display_name": "Python 3 (ipykernel)",
   "language": "python",
   "name": "python3"
  },
  "language_info": {
   "codemirror_mode": {
    "name": "ipython",
    "version": 3
   },
   "file_extension": ".py",
   "mimetype": "text/x-python",
   "name": "python",
   "nbconvert_exporter": "python",
   "pygments_lexer": "ipython3",
   "version": "3.9.13"
  }
 },
 "nbformat": 4,
 "nbformat_minor": 5
}
