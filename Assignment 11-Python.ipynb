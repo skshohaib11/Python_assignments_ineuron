{
 "cells": [
  {
   "cell_type": "markdown",
   "id": "2b17c23f",
   "metadata": {},
   "source": [
    "1. What is the role of the 'else' block in a try-except statement? Provide an example scenario where it would be useful.\n",
    "#### Solution:\n",
    "The 'else' block is an optional block of code that is executed if no exceptions are raised in the 'try' block. Its role is to provide a way to specify code that should run only if the 'try' block executes successfully without any exceptions.\n",
    "#### Example:"
   ]
  },
  {
   "cell_type": "code",
   "execution_count": 28,
   "id": "a93b6f21",
   "metadata": {},
   "outputs": [
    {
     "name": "stdout",
     "output_type": "stream",
     "text": [
      "Enter a numerator: 10\n",
      "Enter a denominator: 0\n",
      "Error: You cannot divide by zero.\n"
     ]
    }
   ],
   "source": [
    "try:\n",
    "    num1 = int(input(\"Enter a numerator: \"))\n",
    "    num2 = int(input(\"Enter a denominator: \"))\n",
    "    result = num1 / num2\n",
    "except ZeroDivisionError:\n",
    "    print(\"Error: You cannot divide by zero.\")\n",
    "except ValueError:\n",
    "    print(\"Error: Please enter valid numeric values.\")\n",
    "else:\n",
    "    print(f\"Result of the division: {result}\")\n"
   ]
  },
  {
   "cell_type": "markdown",
   "id": "ddf66642",
   "metadata": {},
   "source": [
    "2. Can a try-except block be nested inside another try-except block? Explain with an example.\n",
    "#### Solution:\n",
    "Yes, a try-except block can be nested inside another try-except block. This is known as exception handling within exception handling, and it allows for more fine-grained control over how different types of exceptions are handled in different parts of your code.\n"
   ]
  },
  {
   "cell_type": "code",
   "execution_count": 29,
   "id": "154330c7",
   "metadata": {},
   "outputs": [
    {
     "name": "stdout",
     "output_type": "stream",
     "text": [
      "please enter a numerator value: 10\n",
      "please enter a denominator value: 26\n",
      "The division of 10 and 26 is 0.38461538461538464\n"
     ]
    }
   ],
   "source": [
    "try:\n",
    "    num1 = int(input(\"please enter a numerator value: \"))\n",
    "    num2 = int(input(\"please enter a denominator value: \"))\n",
    "    try:\n",
    "        division = num1 / num2\n",
    "    except ZeroDivisionError:\n",
    "        print(\"Denominator cannot be zero\")\n",
    "except ValueError:\n",
    "    print(\"Please enter a integer value.\")\n",
    "else:\n",
    "    print(f\"The division of {num1} and {num2} is {division}\")"
   ]
  },
  {
   "cell_type": "markdown",
   "id": "7dde1a90",
   "metadata": {},
   "source": [
    "3. How can you create a custom exception class in Python? Provide an example that demonstrates its usage.\n",
    "#### Solution:\n",
    "In Python, you can create custom exception classes by defining a new class that inherits from the built-in Exception class or one of its subclasses. By creating custom exception classes, you can add specific error handling and behavior to your code for cases that aren't adequately covered by built-in exceptions.\n",
    "#### Example:"
   ]
  },
  {
   "cell_type": "code",
   "execution_count": 30,
   "id": "d1807565",
   "metadata": {},
   "outputs": [
    {
     "name": "stdout",
     "output_type": "stream",
     "text": [
      "Custom Error Occurred: Division by zero is not allowed\n"
     ]
    }
   ],
   "source": [
    "class CustomError(Exception):\n",
    "    def __init__(self, message):\n",
    "        super().__init__(message)\n",
    "\n",
    "def divide(a, b):\n",
    "    if b == 0:\n",
    "        raise CustomError(\"Division by zero is not allowed\")\n",
    "    return a / b\n",
    "\n",
    "try:\n",
    "    result = divide(10, 0)\n",
    "except CustomError as e:\n",
    "    print(f\"Custom Error Occurred: {e}\")\n",
    "else:\n",
    "    print(f\"Result of the division: {result}\")\n"
   ]
  },
  {
   "cell_type": "markdown",
   "id": "2ed31d1e",
   "metadata": {},
   "source": [
    "4. What are some common exceptions that are built-in to Python?\n",
    "#### Solution:\n",
    "Some exceptions that are built in to python are:\n",
    "- SyntaxError: Raised when there is a syntax error in the code, typically due to incorrect Python syntax.\n",
    "\n",
    "- IndentationError: Raised when there is an issue with the indentation of the code, such as inconsistent or incorrect indentation.\n",
    "\n",
    "- NameError: Raised when a local or global name (variable or function) is not found in the current scope.\n",
    "\n",
    "- TypeError: Raised when an operation or function is applied to an object of an inappropriate type.\n",
    "\n",
    "- ValueError: Raised when a built-in operation or function receives an argument of the correct type but an inappropriate value.\n",
    "\n",
    "- KeyError: Raised when a dictionary is accessed using a key that does not exist in the dictionary.\n",
    "\n",
    "- IndexError: Raised when trying to access an element in a sequence (list, tuple, etc.) using an invalid index.\n",
    "\n",
    "- FileNotFoundError: Raised when attempting to open or manipulate a file that does not exist.\n",
    "\n",
    "- ZeroDivisionError: Raised when attempting to divide a number by zero.\n",
    "\n",
    "- AttributeError: Raised when attempting to access an attribute or method that does not exist on an object.\n",
    "\n",
    "- ImportError: Raised when an import statement fails to find and load the specified module.\n",
    "\n",
    "- TypeError: Raised when a function or method is called with an argument of the wrong data type.\n",
    "\n",
    "- EOFError: Raised when an input operation hits the end of the file unexpectedly.\n",
    "\n",
    "- ArithmeticError: The base class for arithmetic exceptions, including ZeroDivisionError and OverflowError.\n",
    "    \n",
    "    \n",
    "5. What is logging in Python, and why is it important in software development?\n",
    "#### Solution:\n",
    "Logging in Python refers to the practice of recording messages, warnings, errors, and other information generated by a software program during its execution. The Python standard library includes a built-in logging module that makes it easy to incorporate logging into your code. Logging is crucial in software development for several reasons:\n",
    "- Debugging: Logging is a valuable tool for debugging and diagnosing issues in your code. When an error occurs, you can look at the log to see what happened leading up to the error, helping you pinpoint the cause more efficiently than relying solely on print statements.\n",
    "\n",
    "- Monitoring: In production environments, applications may run for extended periods, and you may not have access to the console. Logging allows you to monitor the behavior of your application remotely. You can collect and analyze log data to identify performance bottlenecks, security breaches, or other issues.    \n",
    "\n",
    "In Python, the logging module provides various logging levels (e.g., DEBUG, INFO, WARNING, ERROR, CRITICAL) and configurable handlers (e.g., writing to a file, sending to a network server, printing to the console) to control where log messages are recorded and their severity. By incorporating logging into your code, you can improve its maintainability, reliability, and overall quality.\n",
    "\n",
    "6. Explain the purpose of log levels in Python logging and provide examples of when\n",
    "each log level would be appropriate.\n",
    "#### Solution:\n",
    "Log levels in Python logging are used to categorize and prioritize log messages based on their severity and importance. The purpose of log levels is to allow developers to control which messages get recorded and to what extent they affect the application's behavior. Python's logging module provides five standard log levels, in increasing order of severity:\n",
    "\n",
    "- DEBUG: The lowest log level, used for detailed debugging information. These messages are typically only of interest to developers and are used during the development and testing phases to diagnose issues and inspect the internal state of the application.\n",
    "\n",
    "- INFO: Used to provide informational messages about the normal operation of the application. These messages can be helpful for tracking the flow of the program and providing context about what's happening.\n",
    "\n",
    "- WARNING: Indicates potential issues that are not necessarily errors but may warrant attention. For example, a warning could be used to alert about deprecated features or suboptimal configurations.\n",
    "\n",
    "- ERROR: Indicates errors or exceptional conditions that might lead to a failure in the application. When an error is logged, it typically means that something has gone wrong and needs to be addressed.\n",
    "\n",
    "- CRITICAL: The highest log level, used for severe errors that may cause the application to crash or become unstable. Critical messages are reserved for the most severe issues that require immediate attention.\n",
    "\n",
    "\n",
    "7. What are log formatters in Python logging, and how can you customise the log message format using formatters?\n",
    "#### Solution:\n",
    "In Python logging, log formatters are used to define the structure and content of log messages. They allow you to customize the way log messages are formatted before they are written to the log output, such as a file, console, or a remote server. Log formatters are particularly useful for creating human-readable and machine-parseable log entries.\n",
    "\n",
    "The logging module provides a built-in Formatter class that you can use to define the format of log messages. You can customize log message format by creating an instance of the Formatter class and attaching it to a logging handler.\n",
    "\n",
    "Here's how you can create and customize log message formats using formatters:"
   ]
  },
  {
   "cell_type": "code",
   "execution_count": 31,
   "id": "bb19f590",
   "metadata": {},
   "outputs": [],
   "source": [
    "import logging\n",
    "\n",
    "# Create a formatter instance\n",
    "formatter = logging.Formatter('%(asctime)s [%(levelname)s] - %(message)s')\n",
    "\n",
    "# Create a logging handler (e.g., FileHandler)\n",
    "file_handler = logging.FileHandler('myapp.log')\n",
    "\n",
    "# Attach the formatter to the handler\n",
    "file_handler.setFormatter(formatter)\n",
    "\n",
    "# Create a logger and add the handler\n",
    "logger = logging.getLogger('myapp')\n",
    "logger.addHandler(file_handler)\n",
    "\n",
    "# Set the logging level (e.g., INFO)\n",
    "logger.setLevel(logging.INFO)\n",
    "\n",
    "# Log messages\n",
    "logger.debug('This is a debug message')\n",
    "logger.info('This is an info message')\n",
    "logger.warning('This is a warning message')\n"
   ]
  },
  {
   "cell_type": "markdown",
   "id": "b228a180",
   "metadata": {},
   "source": [
    "8. How can you set up logging to capture log messages from multiple modules or classes in a Python application?\n",
    "#### Solution:\n",
    "In a Python application, you can set up logging to capture log messages from multiple modules or classes by creating a common logger object that is shared across different parts of your application. This shared logger allows you to configure the logging behavior consistently across various modules and classes."
   ]
  },
  {
   "cell_type": "markdown",
   "id": "4e83814e",
   "metadata": {},
   "source": [
    "9. What is the difference between the logging and print statements in Python? When should you use logging over print statements in a real-world application?\n",
    "#### Solution:\n",
    "Both logging and print statements in Python are used for generating output, but they serve different purposes and have distinct characteristics. Here are the key differences between the two:\n",
    "\n",
    "#### Logging:\n",
    "\n",
    "- Purpose: Logging is primarily used for capturing and recording information about the behavior and state of an application during its runtime. It's used for debugging, monitoring, error tracking, and auditing.\n",
    "\n",
    "- Configurability: Logging provides a high degree of configurability. You can specify different log levels (DEBUG, INFO, WARNING, ERROR, CRITICAL), format log messages, and direct log output to various destinations (e.g., files, console, network, email).\n",
    "\n",
    "- Granularity: Logging allows you to log messages at various levels of severity. This fine-grained control allows you to filter and analyze log data effectively.\n",
    "\n",
    "- Persistence: Log messages are typically written to a log file or another persistent medium, allowing you to review them even after the program has finished running.\n",
    "\n",
    "- Concurrency: Logging is thread-safe and can be used in multi-threaded or multi-process applications without issues.\n",
    "\n",
    "#### Print Statements:\n",
    "\n",
    "- Purpose: Print statements are used for immediate, ad-hoc output to the console. They are typically used for debugging and quick inspection of variables or program flow.\n",
    "\n",
    "- Configurability: Print statements are not highly configurable. You can print values to the console, but there are limited formatting options.\n",
    "\n",
    "- Granularity: Print statements don't provide different log levels like logging. Everything you print will be displayed, regardless of its importance or severity.\n",
    "\n",
    "- Persistence: Print statements send output to the console, and this output is not easily persisted for future analysis, especially if the program is long-running or running in the background.\n",
    "\n",
    "- Concurrency: Print statements are generally not thread-safe, and printing from multiple threads or processes concurrently can lead to jumbled or interleaved output.\n",
    "    \n",
    "    \n",
    "10. Write a Python program that logs a message to a file named \"app.log\" with the following requirements:\n",
    "- The log message should be \"Hello, World!\"\n",
    "- The log level should be set to \"INFO.\"\n",
    "- The log file should append new log entries without overwriting previous ones.\n",
    "#### Solution:"
   ]
  },
  {
   "cell_type": "code",
   "execution_count": 32,
   "id": "5cf23ce0",
   "metadata": {},
   "outputs": [],
   "source": [
    "import logging\n",
    "\n",
    "# Configure the logging settings\n",
    "logging.basicConfig(\n",
    "    filename='app.log',  # Specify the log file\n",
    "    level=logging.INFO,  # Set the log level to INFO\n",
    "    format='%(asctime)s [%(levelname)s] - %(message)s',  # Define the log message format\n",
    "    datefmt='%Y-%m-%d %H:%M:%S'  # Define the date and time format\n",
    ")\n",
    "\n",
    "# Log the message\n",
    "logging.info(\"Hello, World!\")\n"
   ]
  },
  {
   "cell_type": "markdown",
   "id": "69e4fc77",
   "metadata": {},
   "source": [
    "11. Create a Python program that logs an error message to the console and a file named \"errors.log\" if an exception occurs during the program's execution. The error message should include the exception type and a timestamp.\n",
    "#### Solution:"
   ]
  },
  {
   "cell_type": "code",
   "execution_count": 33,
   "id": "1bc014ba",
   "metadata": {},
   "outputs": [
    {
     "name": "stdout",
     "output_type": "stream",
     "text": [
      "An exception occurred: ZeroDivisionError - division by zero\n"
     ]
    }
   ],
   "source": [
    "import logging\n",
    "import traceback\n",
    "import time\n",
    "\n",
    "# Configure the logging settings\n",
    "logging.basicConfig(\n",
    "    filename='errors.log',  # Specify the error log file\n",
    "    level=logging.ERROR,    # Set the log level to ERROR\n",
    "    format='%(asctime)s [%(levelname)s] - %(message)s',  # Define the log message format\n",
    "    datefmt='%Y-%m-%d %H:%M:%S'  # Define the date and time format\n",
    ")\n",
    "\n",
    "try:\n",
    "    # Your code that may raise an exception goes here\n",
    "    result = 10 / 0  # Example: division by zero\n",
    "except Exception as e:\n",
    "    # Get the exception type\n",
    "    exception_type = type(e).__name__\n",
    "\n",
    "    # Get the current timestamp\n",
    "    timestamp = time.strftime('%Y-%m-%d %H:%M:%S')\n",
    "\n",
    "    # Log the exception message and traceback to both console and file\n",
    "    logging.error(f\"Exception type: {exception_type}, Timestamp: {timestamp}\")\n",
    "    logging.error(f\"Exception message: {str(e)}\")\n",
    "    logging.error(f\"Traceback:\\n{traceback.format_exc()}\")\n",
    "\n",
    "    # Optionally, print the exception to the console as well\n",
    "    print(f\"An exception occurred: {exception_type} - {str(e)}\")\n"
   ]
  },
  {
   "cell_type": "code",
   "execution_count": null,
   "id": "8dc5f7a3",
   "metadata": {},
   "outputs": [],
   "source": []
  }
 ],
 "metadata": {
  "kernelspec": {
   "display_name": "Python 3 (ipykernel)",
   "language": "python",
   "name": "python3"
  },
  "language_info": {
   "codemirror_mode": {
    "name": "ipython",
    "version": 3
   },
   "file_extension": ".py",
   "mimetype": "text/x-python",
   "name": "python",
   "nbconvert_exporter": "python",
   "pygments_lexer": "ipython3",
   "version": "3.9.13"
  }
 },
 "nbformat": 4,
 "nbformat_minor": 5
}
