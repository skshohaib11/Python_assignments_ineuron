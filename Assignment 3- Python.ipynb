{
 "cells": [
  {
   "cell_type": "markdown",
   "id": "8305e6ba",
   "metadata": {},
   "source": [
    "# Assignment-3"
   ]
  },
  {
   "cell_type": "markdown",
   "id": "635596b0",
   "metadata": {},
   "source": [
    "1. Why are functions advantageous to have in your programs?\n",
    "#### Solution\n",
    "#### The functions are advantageous when we need to use certain kines of code again and again. inshort the by defining a function the re usability of the code becomes easier.\n",
    "\n",
    "\n",
    "\n",
    "2. When does the code in a function run: when it's specified or when it's called?\n",
    "#### Solution\n",
    "#### A code in afunction runs only when it is called like the normal inbuilt functions in python.\n",
    "\n",
    "\n",
    "3. What statement creates a function?\n",
    "#### solution\n",
    "#### def statement is used to create a function.\n",
    "\n",
    "\n",
    "4. What is the difference between a function and a function call?\n",
    "#### Solution\n",
    "#### A function is reusable block of code which can be used again and again.\n",
    "#### where as the function call is used when you want to execute the block of code within a function by calling a function.\n",
    "\n",
    "\n",
    "\n",
    "5. How many global scopes are there in a Python program? How many local scopes?\n",
    "#### Solution\n",
    "#### There is a global scope which is defined before defining a function or the outer most part of the function\n",
    "#### the other one being the local scope which is defined after the function is defined which is the inner most part of the function.\n",
    "\n",
    "\n",
    "6. What happens to variables in a local scope when the function call returns?\n",
    "#### Solution\n",
    "#### Whenever the function is called the local scope becomes useless outside the function.\n",
    "\n",
    "\n",
    "\n",
    "\n",
    "7. What is the concept of a return value? Is it possible to have a return value in an expression?\n",
    "#### Solution:\n",
    "#### When a function is called a return value evokes the output of the code block whic is defined within a function.\n",
    "#### and regarding retirn value using in an expression, yes it can used in an expression.\n",
    "\n",
    "\n",
    "\n",
    "8. If a function does not have a return statement, what is the return value of a call to that function?\n",
    "#### Solution:\n",
    "#### If the function does not have a return statement it will show a None which means there is absence of a value.\n",
    "\n",
    "\n",
    "\n",
    "9. How do you make a function variable refer to the global variable?\n",
    "#### Solution\n",
    "#### A fucntion variable is referred to be a global variable we use the keyword global.\n",
    "\n",
    "\n",
    "\n",
    "10. What is the data type of None?\n",
    "#### Solution:\n",
    "#### The data ype of None is NoneType.\n",
    "\n",
    "\n",
    "\n",
    "11. What does the sentence import areallyourpetsnamederic do?\n",
    "#### Solution:\n",
    "#### import statement is used to include and make use of external modules or packages in your code.\n",
    "\n",
    "\n",
    "\n",
    "\n",
    "12. If you had a bacon() feature in a spam module, what would you call it after importing spam?\n",
    "#### Solution:\n",
    "#### we could call it a inbuilt function which can also be imported by spam.bacon()\n",
    "\n",
    "\n",
    "\n",
    "\n",
    "13. What can you do to save a programme from crashing if it encounters an error?\n",
    "#### Solution:\n",
    "#### We can use try and except clause in the block of code.\n",
    "\n",
    "\n",
    "\n",
    "14. What is the purpose of the try clause? What is the purpose of the except clause?\n",
    "#### Solution:\n",
    "#### The try clause is used to wrap a block of code in which you anticipate that an exception might occur.\n",
    "#### while he except clause is used to specify what should happen if an exception of a particular type is raised within the corresponding try block.\n"
   ]
  },
  {
   "cell_type": "code",
   "execution_count": 3,
   "id": "030337dd",
   "metadata": {},
   "outputs": [
    {
     "data": {
      "text/plain": [
       "True"
      ]
     },
     "execution_count": 3,
     "metadata": {},
     "output_type": "execute_result"
    }
   ],
   "source": []
  },
  {
   "cell_type": "code",
   "execution_count": null,
   "id": "c528189c",
   "metadata": {},
   "outputs": [],
   "source": []
  },
  {
   "cell_type": "code",
   "execution_count": null,
   "id": "32a8c459",
   "metadata": {},
   "outputs": [],
   "source": []
  },
  {
   "cell_type": "code",
   "execution_count": null,
   "id": "44fffa8e",
   "metadata": {},
   "outputs": [],
   "source": []
  }
 ],
 "metadata": {
  "kernelspec": {
   "display_name": "Python 3 (ipykernel)",
   "language": "python",
   "name": "python3"
  },
  "language_info": {
   "codemirror_mode": {
    "name": "ipython",
    "version": 3
   },
   "file_extension": ".py",
   "mimetype": "text/x-python",
   "name": "python",
   "nbconvert_exporter": "python",
   "pygments_lexer": "ipython3",
   "version": "3.9.13"
  }
 },
 "nbformat": 4,
 "nbformat_minor": 5
}
