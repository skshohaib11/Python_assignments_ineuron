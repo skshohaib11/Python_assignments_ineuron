{
 "cells": [
  {
   "cell_type": "markdown",
   "id": "925d0c92",
   "metadata": {},
   "source": [
    "1. What does an empty dictionary's code look like?\n",
    "#### Solution:\n",
    "* {}\n",
    "\n",
    "\n",
    "2. What is the value of a dictionary value with the key 'foo' and the value 42?\n",
    "#### Solution:\n",
    "* 42\n",
    "\n",
    "\n",
    "3. What is the most significant distinction between a dictionary and a list?\n",
    "#### Solution:\n",
    "* A list consists of ordered elements while dictionary consists of unordered pairs i.e., key-value pairs.\n",
    "\n",
    "\n",
    "\n",
    "4. What happens if you try to access spam['foo'] if spam is {'bar': 100}?\n",
    "#### Solution:\n",
    "* We will get a keyError\n",
    "\n",
    "\n",
    "5. If a dictionary is stored in spam, what is the difference between the expressions 'cat' in spam and 'cat' in spam.keys()?\n",
    "#### Solution:\n",
    "* There is a fine difference between 'cat' in spam and 'cat' in spam.keys() the difference is that when we use 'cat' in spam it looks for the 'cat' in dictionary and returns True if present and False if it is not present while 'cat' in spam.keys() specifically looks for cat in the keys of the dictionary and returns True if it is present and False if it is absent.\n",
    "\n",
    "\n",
    "\n",
    "\n",
    "6. If a dictionary is stored in spam, what is the difference between the expressions 'cat' in spam and 'cat' in spam.values()?\n",
    "#### Solution:\n",
    "* There is a fine difference between 'cat' in spam and 'cat' in spam.values() the difference is that when we use 'cat' in spam it looks for the 'cat' in dictionary and returns True if present and False if it is not present while 'cat' in spam.values() specifically looks for cat in the values of the dictionary and returns True if it is present and False if it is absent.\n",
    "\n",
    "\n",
    "\n",
    "\n",
    "7. What is a shortcut for the following code?\n",
    "* if 'color' not in spam:\n",
    "    * spam['color'] = 'black'\n",
    "#### Solution:\n",
    "* 'color' in spam\n",
    "\n",
    "\n",
    "\n",
    "8. How do you \"pretty print\" dictionary values using which module and function?\n",
    "#### Solution:\n",
    "* To \"pretty print\" the dictionary values we use module pprint which stands for \"pretty print\" and we call the function pprint()\n"
   ]
  },
  {
   "cell_type": "code",
   "execution_count": null,
   "id": "9acc50aa",
   "metadata": {},
   "outputs": [],
   "source": []
  },
  {
   "cell_type": "code",
   "execution_count": null,
   "id": "f2206e69",
   "metadata": {},
   "outputs": [],
   "source": []
  }
 ],
 "metadata": {
  "kernelspec": {
   "display_name": "Python 3 (ipykernel)",
   "language": "python",
   "name": "python3"
  },
  "language_info": {
   "codemirror_mode": {
    "name": "ipython",
    "version": 3
   },
   "file_extension": ".py",
   "mimetype": "text/x-python",
   "name": "python",
   "nbconvert_exporter": "python",
   "pygments_lexer": "ipython3",
   "version": "3.9.13"
  }
 },
 "nbformat": 4,
 "nbformat_minor": 5
}
