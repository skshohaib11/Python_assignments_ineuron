{
 "cells": [
  {
   "cell_type": "markdown",
   "id": "9ed8f715",
   "metadata": {},
   "source": [
    "Q.1. What are keywords in python? Using the keyword library, print all the python keywords."
   ]
  },
  {
   "cell_type": "markdown",
   "id": "758dedc8",
   "metadata": {},
   "source": [
    "#### Solution:\n",
    "Keywords are reserved words in python which have special meaning and purposes in python.\n",
    "To get the list of all the kewords we first import keyword module and type keyword.kwlist"
   ]
  },
  {
   "cell_type": "code",
   "execution_count": 33,
   "id": "a09c3ddd",
   "metadata": {},
   "outputs": [
    {
     "data": {
      "text/plain": [
       "['False',\n",
       " 'None',\n",
       " 'True',\n",
       " '__peg_parser__',\n",
       " 'and',\n",
       " 'as',\n",
       " 'assert',\n",
       " 'async',\n",
       " 'await',\n",
       " 'break',\n",
       " 'class',\n",
       " 'continue',\n",
       " 'def',\n",
       " 'del',\n",
       " 'elif',\n",
       " 'else',\n",
       " 'except',\n",
       " 'finally',\n",
       " 'for',\n",
       " 'from',\n",
       " 'global',\n",
       " 'if',\n",
       " 'import',\n",
       " 'in',\n",
       " 'is',\n",
       " 'lambda',\n",
       " 'nonlocal',\n",
       " 'not',\n",
       " 'or',\n",
       " 'pass',\n",
       " 'raise',\n",
       " 'return',\n",
       " 'try',\n",
       " 'while',\n",
       " 'with',\n",
       " 'yield']"
      ]
     },
     "execution_count": 33,
     "metadata": {},
     "output_type": "execute_result"
    }
   ],
   "source": [
    "import keyword\n",
    "keyword.kwlist"
   ]
  },
  {
   "cell_type": "markdown",
   "id": "a2eb1bc2",
   "metadata": {},
   "source": [
    "Q.2. What are the rules to create variables in python?\n",
    "#### Solution:\n",
    "* The letter of a variable should start wit upper or lower case alphabet or underscore _. They cannot start with numbers however they can contain numbers after the variable 1st alphabet is written as per rule.\n",
    "* We cannot use reserved keywords as variable names.\n",
    "* variable can only contain letters, numbers and underscore it should not contain special characters like @#$%.\n",
    "\n",
    "\n",
    "\n",
    "Q.3. What are the standards and conventions followed for the nomenclature of variables in\n",
    "python to improve code readability and maintainability?\n",
    "#### Solution: \n",
    "Consistent naming standards and conventions for variables in Python is essential to improve code readability and maintainability. The Python community generally adheres to the guidelines outlined in PEP 8, which is the official style guide for Python code.\n",
    "* naming style: using lowercase seperate the words with underscore.\n",
    "* Avoiding sinle character names like i, j, k\n",
    "* using meaningful names \n",
    "* Avoiding reserved keywords\n",
    "* \n",
    "\n",
    "\n",
    "\n",
    "Q.4. What will happen if a keyword is used as a variable name?\n",
    "#### Solution: \n",
    "If we use keyword as a variable it wont be able to store the data and will throw a syntax error of invalid syntax.\n",
    "\n",
    "\n",
    "\n",
    "Q.5. For what purpose def keyword is used?\n",
    "#### Solution:\n",
    "Def keyword is used to create a new function by the user so that it can be reused again when required.\n",
    "\n",
    "\n",
    "\n",
    "Q.6. What is the operation of this special character ‘\\’?\n",
    "#### Solution:\n",
    "This special character '\\' is call backslash which is known as escape charater in different languages . the main purpose of this is to include the special characters in the code which can not be able to writs directly \n",
    "example: \"It\\'s\" , \"shouldn\\'t, \"\\\"Hello\\\"\" etc\n",
    "example: \"\\n\" is used for a new line , \"\\t\" is used to create a tab, \"\\\\\" used to create  aliteral backslash character.\n",
    "\n",
    "\n",
    "\n",
    "\n",
    "Q.7. Give an example of the following conditions:\n",
    "(i) Homogeneous list\n",
    "(ii) Heterogeneous set\n",
    "(iii) Homogeneous tuple\n",
    "#### Solution:\n",
    "* Homogeneous list: Homogeneous list are the list which contains the elements of same data type.\n",
    "    Example: fruits =[\"Banana\", \"Apple\", \"Mango\"]\n",
    "* Heterogeneous set: Heterogeneous set are the set which contain elements with different data types.\n",
    "    Example:  hetro_set = {44.56, 22,\"Hello\", True}\n",
    "* Homogeneous tuples: Homogeneous tuples are the tuples which contains elements of same data type\n",
    "    Example: homo_tuple = (11,222,333,4444,55555) \n",
    "    \n",
    "    \n",
    "    \n",
    "    "
   ]
  },
  {
   "cell_type": "code",
   "execution_count": null,
   "id": "2cda4a2b",
   "metadata": {},
   "outputs": [],
   "source": [
    "Q.9. Write a code to create the given structure using only for loop.\n",
    "    *\n",
    "   ***\n",
    "  *****\n",
    " *******\n",
    "*********"
   ]
  },
  {
   "cell_type": "code",
   "execution_count": 30,
   "id": "f37943fd",
   "metadata": {},
   "outputs": [
    {
     "name": "stdout",
     "output_type": "stream",
     "text": [
      "     *\n",
      "    ***\n",
      "   *****\n",
      "  *******\n",
      " *********\n"
     ]
    }
   ],
   "source": [
    "# Solution:\n",
    "\n",
    "    \n",
    "n = 5  # You can adjust this value to change the height of the structure\n",
    "for i in range(height):\n",
    "    # Print spaces\n",
    "    for j in range(height - i ):\n",
    "        print(\" \", end=\"\")\n",
    "    \n",
    "    # Print stars\n",
    "    for k in range(i*2 + 1):\n",
    "        print(\"*\", end=\"\")   \n",
    "    # Move to the next line\n",
    "    print()\n",
    "\n",
    "        "
   ]
  },
  {
   "cell_type": "code",
   "execution_count": null,
   "id": "f153252b",
   "metadata": {},
   "outputs": [],
   "source": [
    "Q.10. Write a code to create the given structure using while loop.\n",
    "|||||||||\n",
    " |||||||\n",
    "  |||||\n",
    "   |||\n",
    "    |"
   ]
  },
  {
   "cell_type": "code",
   "execution_count": 29,
   "id": "cff541e3",
   "metadata": {},
   "outputs": [
    {
     "name": "stdout",
     "output_type": "stream",
     "text": [
      "|||||||||\n",
      " |||||||\n",
      "  |||||\n",
      "   |||\n",
      "    |\n"
     ]
    }
   ],
   "source": [
    "# Solution:\n",
    "\n",
    "\n",
    "height = 5  # You can adjust this value to change the height of the structure\n",
    "i = 0\n",
    "\n",
    "while i < height:\n",
    "    # Print spaces\n",
    "    j = 0\n",
    "    while j < i:\n",
    "        print(\" \", end=\"\")\n",
    "        j += 1\n",
    "    \n",
    "    # Print vertical bars\n",
    "    k = 2 * (height - i) - 1\n",
    "    while k > 0:\n",
    "        print(\"|\", end=\"\")\n",
    "        k -= 1\n",
    "    \n",
    "    # Move to the next line\n",
    "    print()\n",
    "    \n",
    "    i += 1"
   ]
  }
 ],
 "metadata": {
  "kernelspec": {
   "display_name": "Python 3 (ipykernel)",
   "language": "python",
   "name": "python3"
  },
  "language_info": {
   "codemirror_mode": {
    "name": "ipython",
    "version": 3
   },
   "file_extension": ".py",
   "mimetype": "text/x-python",
   "name": "python",
   "nbconvert_exporter": "python",
   "pygments_lexer": "ipython3",
   "version": "3.9.13"
  }
 },
 "nbformat": 4,
 "nbformat_minor": 5
}
