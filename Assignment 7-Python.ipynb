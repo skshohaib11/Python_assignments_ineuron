{
 "cells": [
  {
   "cell_type": "markdown",
   "id": "f46b95e9",
   "metadata": {},
   "source": [
    "Q.1. Create two int type variables, apply addition, subtraction, division and multiplications\n",
    "and store the results in variables. Then print the data in the following format by calling the\n",
    "variables:\n",
    "\n",
    "First variable is __ & second variable is __.\n",
    "Addition: __ + __ = __\n",
    "Subtraction: __ - __ = __\n",
    "Multiplication: __ * __ = __\n",
    "Division: __ / __ = __"
   ]
  },
  {
   "cell_type": "code",
   "execution_count": 7,
   "id": "9e85aba0",
   "metadata": {},
   "outputs": [
    {
     "name": "stdout",
     "output_type": "stream",
     "text": [
      "Addition: 12 + 15 = 27\n",
      "Substraction: 12 - 15 = -3\n",
      "Multiplication: 12 * 15 = 180\n",
      "Division: 12 / 15 = 0.8\n"
     ]
    }
   ],
   "source": [
    "# SOLUTION\n",
    "a = 12\n",
    "b = 15\n",
    "\n",
    "Addition = a+b\n",
    "Substraction = a-b\n",
    "Multiplication = a*b\n",
    "Division = a/b\n",
    "\n",
    "print(\"Addition:\",a,\"+\",b,\"=\",Addition)\n",
    "print(\"Substraction:\",a,\"-\",b,\"=\",Substraction)\n",
    "print(\"Multiplication:\",a,\"*\",b,\"=\",Multiplication)\n",
    "print(\"Division:\",a,\"/\",b,\"=\",Division)"
   ]
  },
  {
   "cell_type": "markdown",
   "id": "6093122c",
   "metadata": {},
   "source": [
    "Q.2. What is the difference between the following operators:\n",
    "(i) ‘/’ & ‘//’\n",
    "(ii) ‘**’ & ‘^’\n",
    "\n",
    "#### Solution:\n",
    "/ This operator is used for division\n",
    "// this operator is used for floor divison\n",
    "** This operator is used to raise the power with some number\n",
    "^  This operator is used for bitwise XOR (exclusive OR) operation between corresponding bits of two numbers.\n",
    "\n",
    "\n",
    "Q.3. List the logical operators.\n",
    "#### Solution:\n",
    "* and \n",
    "* or\n",
    "* not \n",
    "\n",
    "Q.4. Explain right shift operator and left shift operator with examples.\n",
    "#### Solution:\n",
    "The right shift (>>) and left shift (<<) operators are bitwise shift operators in Python. They are used to perform bitwise operations on integer values. Bitwise shifting involves moving the bits of a binary number to the right or left by a specified number of positions.\n",
    "\n",
    "\n",
    "\n",
    "Q.5. Create a list containing int type data of length 15. Then write a code to check if 10 is\n",
    "present in the list or not."
   ]
  },
  {
   "cell_type": "code",
   "execution_count": 23,
   "id": "601d8d72",
   "metadata": {},
   "outputs": [
    {
     "name": "stdout",
     "output_type": "stream",
     "text": [
      "The number 10 is not present in the list\n"
     ]
    }
   ],
   "source": [
    "#Solution:\n",
    "\n",
    "l = [1,2,3,4,5,6,7,8,9,11,12,13,14,15,16]\n",
    "if 10 in l:\n",
    "    print(\"The number 10 is present in the list\")\n",
    "else:\n",
    "    print(\"The number 10 is not present in the list\")"
   ]
  },
  {
   "cell_type": "code",
   "execution_count": null,
   "id": "6655552d",
   "metadata": {},
   "outputs": [],
   "source": []
  },
  {
   "cell_type": "code",
   "execution_count": null,
   "id": "70bdd21d",
   "metadata": {},
   "outputs": [],
   "source": []
  },
  {
   "cell_type": "code",
   "execution_count": null,
   "id": "716abcdc",
   "metadata": {},
   "outputs": [],
   "source": []
  },
  {
   "cell_type": "code",
   "execution_count": null,
   "id": "a29ad3ec",
   "metadata": {},
   "outputs": [],
   "source": []
  },
  {
   "cell_type": "code",
   "execution_count": null,
   "id": "7a42c94b",
   "metadata": {},
   "outputs": [],
   "source": []
  },
  {
   "cell_type": "code",
   "execution_count": null,
   "id": "cdb9eb03",
   "metadata": {},
   "outputs": [],
   "source": []
  },
  {
   "cell_type": "code",
   "execution_count": null,
   "id": "b2f4574d",
   "metadata": {},
   "outputs": [],
   "source": []
  },
  {
   "cell_type": "code",
   "execution_count": null,
   "id": "bc10c2fa",
   "metadata": {},
   "outputs": [],
   "source": []
  },
  {
   "cell_type": "code",
   "execution_count": null,
   "id": "d803de2d",
   "metadata": {},
   "outputs": [],
   "source": []
  },
  {
   "cell_type": "code",
   "execution_count": null,
   "id": "d6b3eb3f",
   "metadata": {},
   "outputs": [],
   "source": []
  }
 ],
 "metadata": {
  "kernelspec": {
   "display_name": "Python 3 (ipykernel)",
   "language": "python",
   "name": "python3"
  },
  "language_info": {
   "codemirror_mode": {
    "name": "ipython",
    "version": 3
   },
   "file_extension": ".py",
   "mimetype": "text/x-python",
   "name": "python",
   "nbconvert_exporter": "python",
   "pygments_lexer": "ipython3",
   "version": "3.9.13"
  }
 },
 "nbformat": 4,
 "nbformat_minor": 5
}
