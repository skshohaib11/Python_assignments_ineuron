{
 "cells": [
  {
   "cell_type": "markdown",
   "id": "5c56081f",
   "metadata": {},
   "source": [
    "1. In Python, what is the difference between a built-in function and a user-defined function? Provide an\n",
    "example of each.\n",
    "#### Solution:\n",
    "Built-In functions are the function which are already present in the python by default which are present in different packages which can perform different tasks and is globally availabe.\n",
    "where as user defined functions are the functions which are built by the programmer for their use in a particular project which they might require to call it again and again when needed. Thes functions  may not be available globally to all the users.\n",
    "\n",
    "\n",
    "\n",
    "2. How can you pass arguments to a function in Python? Explain the difference between positional\n",
    "arguments and keyword arguments.\n",
    "#### Solutions:\n",
    "We can pass arguments in python simply by adding the different variables inside parenthesis they are basically of 2 types keyword and positional arguments\n",
    "The difference between positional and keyword arguments are in Positional arguments are the most common way of passing arguments to a function. They are matched with the function's parameters based on their position or order in the function call. The order in which you provide the arguments matters, as they are assigned to the corresponding parameters in the same order. where as Keyword arguments are passed with their corresponding parameter names, making it explicit which value should be assigned to which parameter. This allows you to pass arguments in any order, and it can make function calls more readable and less error-prone.\n",
    "\n",
    "\n",
    "\n",
    "3. What is the purpose of the return statement in a function? Can a function have multiple return\n",
    "statements? Explain with an example.\n",
    "#### Solution: \n",
    "The purpose of return in function is when a particular function is called it gives us the values back as a results and stops the execution of code which is of non-NoneType.\n",
    "Yes the function can have multiple return statements but only one return function is executed once the return statement is executed the function execution stops.\n",
    "Below is the Example of multiple return statements."
   ]
  },
  {
   "cell_type": "code",
   "execution_count": 1,
   "id": "b28a790e",
   "metadata": {},
   "outputs": [],
   "source": [
    "def even_or_odd(n):\n",
    "    if n%2 == 0:\n",
    "        return \"The number is Even\"\n",
    "    else:\n",
    "        return \"The number is odd\""
   ]
  },
  {
   "cell_type": "markdown",
   "id": "472aa503",
   "metadata": {},
   "source": [
    "4. What are lambda functions in Python? How are they different from regular functions? Provide an\n",
    "example where a lambda function can be useful.\n",
    "#### Solution;\n",
    "Lambda functions in Python are small, anonymous functions that can have any number of arguments but can only have one expression.\n",
    "The difference between lambda and regular function is that :\n",
    "* lambda are one line expression and used for comparatively easier computation than the regular functions.\n",
    "* They keyword  for lambda function we use 'lambda' and for regular function we use 'def'\n",
    "* lambda function being anaonyomous they dont have any name while the regular functions can be named.\n",
    "* In lambda function you dont need to write return key word where as in regular function the return keyword is necessary to get an output\n",
    "The lamda function is use full where we need to use it for a short period of time and may not need to call it again in future.\n",
    "The example of lambda function is as below:"
   ]
  },
  {
   "cell_type": "code",
   "execution_count": 4,
   "id": "844bf09e",
   "metadata": {},
   "outputs": [
    {
     "data": {
      "text/plain": [
       "[1, 8, 27, 64, 125, 216, 343, 512, 729]"
      ]
     },
     "execution_count": 4,
     "metadata": {},
     "output_type": "execute_result"
    }
   ],
   "source": [
    "l = [1,2,3,4,5,6,7,8,9]\n",
    "\n",
    "list(map(lambda x : x**3 , l)) #To provide the cube of list of numbers."
   ]
  },
  {
   "cell_type": "markdown",
   "id": "061a1902",
   "metadata": {},
   "source": [
    "5. How does the concept of \"scope\" apply to functions in Python? Explain the difference between local\n",
    "scope and global scope.\n",
    "#### Solution:\n",
    "The concept of scope in python is basically the region where the particular variable can be accessed or modified.\n",
    "There are 2 types of scopes local scope and global scope.\n",
    "1) Local scope:\n",
    "* Local scope refers to the part of a program within a function where variables are defined.\n",
    "* Variables defined within a function have local scope. They are only accessible within that specific function.\n",
    "* Once the function execution completes, local variables are destroyed, and they cannot be accessed outside the function.\n",
    "* Local variables can have the same name as variables in other functions or in the global scope without causing conflicts.\n",
    "2) Global Scope:\n",
    "* Global scope refers to the main body of the program or the module-level scope.\n",
    "* Variables defined outside of functions or in the main body of the code have global scope. They can be accessed from anywhere within the code, including within functions.\n",
    "* Global variables persist throughout the program's execution and can be accessed or modified from any part of the code.\n",
    "* Changing the value of a global variable within a function requires the use of the global keyword.\n",
    "\n",
    "\n",
    "\n",
    "6. How can you use the \"return\" statement in a Python function to return multiple values?\n",
    "#### Solution:\n",
    "In Python, you can use the return statement in a function to return multiple values by returning them as elements of a tuple, list, or any other suitable data structure. When you return multiple values, they are bundled together and can be unpacked by the caller of the function.\n",
    "Example is given below:"
   ]
  },
  {
   "cell_type": "code",
   "execution_count": 5,
   "id": "1e695173",
   "metadata": {},
   "outputs": [
    {
     "name": "stdout",
     "output_type": "stream",
     "text": [
      "Area: 15\n",
      "Perimeter: 16\n"
     ]
    }
   ],
   "source": [
    "def get_rectangle_properties(length, width):\n",
    "    area = length * width\n",
    "    perimeter = 2 * (length + width)\n",
    "    return area, perimeter  # Returning a tuple of values\n",
    "\n",
    "length = 5\n",
    "width = 3\n",
    "\n",
    "result = get_rectangle_properties(length, width)\n",
    "print(\"Area:\", result[0])  # Accessing the area from the tuple\n",
    "print(\"Perimeter:\", result[1])  # Accessing the perimeter from the tuple\n"
   ]
  },
  {
   "cell_type": "markdown",
   "id": "b192955e",
   "metadata": {},
   "source": [
    "7. What is the difference between the \"pass by value\" and \"pass by reference\" concepts when it\n",
    "comes to function arguments in Python?\n",
    "#### Solution:\n",
    "In Python, the terms \"pass by value\" and \"pass by reference\" are often used to describe how function arguments are handled.\n",
    "* Pass by Value:\n",
    "    * In languages that strictly follow pass by value, a copy of the actual value is made and passed to the function. Any changes to the parameter inside the function do not affect the original value.\n",
    "    * Modifications to the parameter inside the function are local and do not affect the caller's variable.\n",
    "* Pass by Reference:\n",
    "    * In languages that strictly follow pass by reference, the function receives a reference to the original variable. Changes to the parameter inside the function affect the original variable directly.\n",
    "    * The function can modify the parameter in a way that is visible to the caller.\n",
    "\n",
    "\n",
    "8. Create a function that can intake integer or decimal value and do following operations:\n",
    "a. Logarithmic function (log x)\n",
    "b. Exponential function (exp(x))\n",
    "c. Power function with base 2 (2x)\n",
    "d. Square root\n",
    "#### Solution:"
   ]
  },
  {
   "cell_type": "code",
   "execution_count": 16,
   "id": "b72d10d2",
   "metadata": {},
   "outputs": [],
   "source": [
    "#1) Logarithmic function:\n",
    "import math\n",
    "\n",
    "def logarithm(x):\n",
    "    if x <= 0:\n",
    "        return \"Please use positive integers as the number is not defined\"\n",
    "    else:\n",
    "        result = math.log(x)\n",
    "        return result\n",
    "    "
   ]
  },
  {
   "cell_type": "code",
   "execution_count": 20,
   "id": "8424eaf9",
   "metadata": {},
   "outputs": [
    {
     "data": {
      "text/plain": [
       "0.6931471805599453"
      ]
     },
     "execution_count": 20,
     "metadata": {},
     "output_type": "execute_result"
    }
   ],
   "source": [
    "logarithm(2)"
   ]
  },
  {
   "cell_type": "code",
   "execution_count": 21,
   "id": "bb78841a",
   "metadata": {},
   "outputs": [],
   "source": [
    "#2) Exponential function (exp(x))\n",
    "import math\n",
    "\n",
    "def exponential(x):\n",
    "    result = math.exp(x)\n",
    "    return result\n"
   ]
  },
  {
   "cell_type": "code",
   "execution_count": 23,
   "id": "71698ed9",
   "metadata": {},
   "outputs": [
    {
     "data": {
      "text/plain": [
       "2.718281828459045"
      ]
     },
     "execution_count": 23,
     "metadata": {},
     "output_type": "execute_result"
    }
   ],
   "source": [
    "exponential(1)"
   ]
  },
  {
   "cell_type": "code",
   "execution_count": 13,
   "id": "fa4ace5b",
   "metadata": {},
   "outputs": [],
   "source": [
    "#3) Power function with base 2 (2x)\n",
    "def power_func(number):\n",
    "    result = 2 ** number\n",
    "    return result\n"
   ]
  },
  {
   "cell_type": "code",
   "execution_count": 15,
   "id": "e606ed26",
   "metadata": {},
   "outputs": [
    {
     "data": {
      "text/plain": [
       "16"
      ]
     },
     "execution_count": 15,
     "metadata": {},
     "output_type": "execute_result"
    }
   ],
   "source": [
    "power_func(4)"
   ]
  },
  {
   "cell_type": "code",
   "execution_count": 24,
   "id": "44ab096c",
   "metadata": {},
   "outputs": [],
   "source": [
    "#4) Square root\n",
    "\n",
    "def Sqrt(n):\n",
    "    result = n**0.5\n",
    "    return result"
   ]
  },
  {
   "cell_type": "code",
   "execution_count": 25,
   "id": "22bebf3d",
   "metadata": {},
   "outputs": [
    {
     "data": {
      "text/plain": [
       "10.0"
      ]
     },
     "execution_count": 25,
     "metadata": {},
     "output_type": "execute_result"
    }
   ],
   "source": [
    "Sqrt(100)"
   ]
  },
  {
   "cell_type": "markdown",
   "id": "52cadbac",
   "metadata": {},
   "source": [
    "9. Create a function that takes a full name as an argument and returns first name and last name.\n",
    "#### Solution:"
   ]
  },
  {
   "cell_type": "code",
   "execution_count": 68,
   "id": "f21f90f3",
   "metadata": {},
   "outputs": [],
   "source": [
    "def split_name(full_name):\n",
    "    # Splitting the full name into a list of words\n",
    "    name_parts = full_name.split()\n",
    "    \n",
    "    # Assuming that the first word is the first name and the rest are the last name\n",
    "    first_name = name_parts[0]\n",
    "    last_name = ' '.join(name_parts[1:])\n",
    "    \n",
    "    return first_name, last_name"
   ]
  },
  {
   "cell_type": "code",
   "execution_count": 69,
   "id": "0b6db202",
   "metadata": {},
   "outputs": [
    {
     "name": "stdout",
     "output_type": "stream",
     "text": [
      "Enter your full name: Shaikh Mohammed Shohaib\n",
      "First Name: Shaikh\n",
      "Last Name: Mohammed Shohaib\n"
     ]
    }
   ],
   "source": [
    "# Taking input from the user\n",
    "user_full_name = input(\"Enter your full name: \")\n",
    "\n",
    "# Calling the function and storing the results\n",
    "first, last = split_name(user_full_name)\n",
    "\n",
    "# Displaying the results\n",
    "print(\"First Name:\", first)\n",
    "print(\"Last Name:\", last)"
   ]
  }
 ],
 "metadata": {
  "kernelspec": {
   "display_name": "Python 3 (ipykernel)",
   "language": "python",
   "name": "python3"
  },
  "language_info": {
   "codemirror_mode": {
    "name": "ipython",
    "version": 3
   },
   "file_extension": ".py",
   "mimetype": "text/x-python",
   "name": "python",
   "nbconvert_exporter": "python",
   "pygments_lexer": "ipython3",
   "version": "3.9.13"
  }
 },
 "nbformat": 4,
 "nbformat_minor": 5
}
