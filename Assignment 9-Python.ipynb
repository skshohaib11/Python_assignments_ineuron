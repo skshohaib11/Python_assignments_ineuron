{
 "cells": [
  {
   "cell_type": "markdown",
   "id": "d244c182",
   "metadata": {},
   "source": [
    "1) What is a lambda function in Python, and how does it differ from a regular function?\n",
    "#### Solution:\n",
    "lambda function is a small, anonymous function defined using the lambda keyword. Lambda functions are also known as \"anonymous functions\" because they don't have a name like regular functions defined using the def keyword. Lambda functions are typically used for short, simple operations where a full function definition is not necessary.\n",
    "While regular functions are not \"anonymous functions\" as we provide different function names for different functions the keyword used is def unlike lambda functions here complex expressions can be formed while creating this type of functions.\n",
    "\n",
    "\n",
    "2) Can a lambda function in Python have multiple arguments? If yes, how can you define and use them?\n",
    "#### Solution:\n",
    "Yes, a lambda function in Python can have multiple arguments. You can define and use multiple arguments in a lambda function by separating them with commas in the argument list, just like in a regular function. \n",
    "\n",
    "The syntax and example for using the function is as follows:\n",
    "\n",
    "- lambda argument1, argument2, ... : expression\n",
    "\n",
    "- multiply = lambda x, y: x * y\n",
    "- result = multiply(3, 4)\n",
    "- print(result) \n",
    "\n",
    "\n",
    "3) How are lambda functions typically used in Python? Provide an example use case.\n",
    "#### Solution:\n",
    "Lambda functions in Python are typically used in scenarios where you need a small, simple function for a short period of time and don't want to create a separate named function using def.\n",
    "\n",
    "Example: \n",
    "- numbers = [1, 2, 3, 4, 5, 6]\n",
    "- evens = list(filter(lambda x: x % 2 == 0, numbers))\n",
    "- print(evens)\n",
    "\n",
    "\n",
    "4) What are the advantages and limitations of lambda functions compared to regular functions in Python?\n",
    "#### Solution:\n",
    "* ADVANTAGES:\n",
    "    * Lambda functions are concise and allow you to define small, one-off functions in a single line of code. This can make your code more compact and readable when the function logic is simple.\n",
    "    * Lambda functions are anonymous, meaning they don't require a name. This is useful when you only need the function in a specific context and don't want to clutter your code with named functions.\n",
    "\n",
    "* DISADVANTAGES:\n",
    "    * Lambda functions are restricted to a single expression, which means they can't contain multiple statements or complex logic. If your function needs more complexity, it's better to use a regular function defined with def.\n",
    "    * Lambda functions are primarily intended for short, disposable operations. If you need to reuse a function in multiple places or across different parts of your code, it's better to define a regular function with a name.\n",
    "    \n",
    "\n",
    "5) Are lambda functions in Python able to access variables defined outside of their own scope? Explain with an example.\n",
    "#### Solution:\n",
    "Yes, lambda functions in Python can access variables defined outside of their own scope. This concept is known as \"lexical scoping\" or \"closure.\" Lambda functions can access and \"capture\" variables from the surrounding scope in which they are defined. This allows lambda functions to use variables that are in their enclosing scope at the time of their creation. "
   ]
  },
  {
   "cell_type": "code",
   "execution_count": 17,
   "id": "4057c61d",
   "metadata": {},
   "outputs": [
    {
     "name": "stdout",
     "output_type": "stream",
     "text": [
      "15\n"
     ]
    }
   ],
   "source": [
    "#Example:\n",
    "def outer_function(x):\n",
    "    # This variable 'x' is in the outer function's scope.\n",
    "    return lambda y: x + y\n",
    "\n",
    "    # Create a lambda function that captures 'x' from the outer function's scope.\n",
    "add_five = outer_function(5)\n",
    "\n",
    "    # Use the lambda function to add 5 to a number.\n",
    "result = add_five(10)  # This will add 5 to 10, resulting in 15.\n",
    "\n",
    "print(result)"
   ]
  },
  {
   "cell_type": "markdown",
   "id": "204b1a2e",
   "metadata": {},
   "source": [
    "In this example, outer_function takes an argument x and returns a lambda function that takes another argument y. The lambda function captures and remembers the value of x from its enclosing scope, even after the outer_function has completed execution. When you later call add_five(10), it adds the captured x (which is 5) to y (which is 10), resulting in 15."
   ]
  },
  {
   "cell_type": "markdown",
   "id": "a440d869",
   "metadata": {},
   "source": [
    "6) Write a lambda function to calculate the square of a given number.\n",
    "#### Solution:"
   ]
  },
  {
   "cell_type": "code",
   "execution_count": 18,
   "id": "f03d17e9",
   "metadata": {},
   "outputs": [
    {
     "data": {
      "text/plain": [
       "4"
      ]
     },
     "execution_count": 18,
     "metadata": {},
     "output_type": "execute_result"
    }
   ],
   "source": [
    "square = lambda x:x**2\n",
    "square(2)"
   ]
  },
  {
   "cell_type": "markdown",
   "id": "20ab22ad",
   "metadata": {},
   "source": [
    "7) Create a lambda function to find the maximum value in a list of integers.\n",
    "#### Solution:"
   ]
  },
  {
   "cell_type": "code",
   "execution_count": 19,
   "id": "3ff97b55",
   "metadata": {},
   "outputs": [
    {
     "name": "stdout",
     "output_type": "stream",
     "text": [
      "20\n"
     ]
    }
   ],
   "source": [
    "find_max = lambda numbers: max(numbers)\n",
    "\n",
    "# Example usage:\n",
    "my_list = [10, 5, 8, 20, 3]\n",
    "max_value = find_max(my_list)\n",
    "print(max_value)  "
   ]
  },
  {
   "cell_type": "markdown",
   "id": "87f1fbf6",
   "metadata": {},
   "source": [
    "8) Implement a lambda function to filter out all the even numbers from a list of integers.\n",
    "#### Solution:"
   ]
  },
  {
   "cell_type": "code",
   "execution_count": 20,
   "id": "d2939c01",
   "metadata": {},
   "outputs": [
    {
     "name": "stdout",
     "output_type": "stream",
     "text": [
      "[2, 4, 6]\n"
     ]
    }
   ],
   "source": [
    "filter_even = lambda numbers: list(filter(lambda x: x % 2 == 0, numbers))\n",
    "\n",
    "# Example usage:\n",
    "my_list = [1, 2, 3, 4, 5, 6]\n",
    "even_numbers = filter_even(my_list)\n",
    "print(even_numbers)  \n"
   ]
  },
  {
   "cell_type": "markdown",
   "id": "87d2dea2",
   "metadata": {},
   "source": [
    "9) Write a lambda function to sort a list of strings in ascending order based on the length of each string.\n",
    "#### Solution:"
   ]
  },
  {
   "cell_type": "code",
   "execution_count": 21,
   "id": "26f2aa83",
   "metadata": {},
   "outputs": [
    {
     "name": "stdout",
     "output_type": "stream",
     "text": [
      "['fig', 'date', 'apple', 'banana', 'cherry']\n"
     ]
    }
   ],
   "source": [
    "sort_by_length = lambda strings: sorted(strings, key=lambda x: len(x))\n",
    "\n",
    "# Example usage:\n",
    "my_list = [\"apple\", \"banana\", \"cherry\", \"date\", \"fig\"]\n",
    "sorted_list = sort_by_length(my_list)\n",
    "print(sorted_list)\n"
   ]
  },
  {
   "cell_type": "markdown",
   "id": "4493f249",
   "metadata": {},
   "source": [
    "10) Create a lambda function that takes two lists as input and returns a new list containing the common elements between the two lists.\n",
    "#### Solution:"
   ]
  },
  {
   "cell_type": "code",
   "execution_count": 22,
   "id": "333ec115",
   "metadata": {},
   "outputs": [
    {
     "name": "stdout",
     "output_type": "stream",
     "text": [
      "[3, 4, 5]\n"
     ]
    }
   ],
   "source": [
    "find_common_elements = lambda list1, list2: list(filter(lambda x: x in list2, list1))\n",
    "\n",
    "# Example usage:\n",
    "list1 = [1, 2, 3, 4, 5]\n",
    "list2 = [3, 4, 5, 6, 7]\n",
    "common_elements = find_common_elements(list1, list2)\n",
    "print(common_elements)  \n"
   ]
  },
  {
   "cell_type": "markdown",
   "id": "9b111e4b",
   "metadata": {},
   "source": [
    "11) Write a recursive function to calculate the factorial of a given positive integer.\n",
    "#### Solution:"
   ]
  },
  {
   "cell_type": "code",
   "execution_count": 23,
   "id": "49318469",
   "metadata": {},
   "outputs": [
    {
     "name": "stdout",
     "output_type": "stream",
     "text": [
      "The factorial of 5 is 120\n"
     ]
    }
   ],
   "source": [
    "def factorial(n):\n",
    "    # Base case: factorial of 0 is 1.\n",
    "    if n == 0:\n",
    "        return 1\n",
    "    # Recursive case: factorial of n is n times factorial of (n-1).\n",
    "    else:\n",
    "        return n * factorial(n - 1)\n",
    "\n",
    "# Example usage:\n",
    "n = 5\n",
    "result = factorial(n)\n",
    "print(f\"The factorial of {n} is {result}\")\n"
   ]
  },
  {
   "cell_type": "markdown",
   "id": "63938e92",
   "metadata": {},
   "source": [
    "12) Implement a recursive function to compute the nth Fibonacci number.\n",
    "#### Solution:"
   ]
  },
  {
   "cell_type": "code",
   "execution_count": 24,
   "id": "122a2f76",
   "metadata": {},
   "outputs": [
    {
     "name": "stdout",
     "output_type": "stream",
     "text": [
      "The 10-th Fibonacci number is 55\n"
     ]
    }
   ],
   "source": [
    "def fibonacci(n):\n",
    "    # Base cases:\n",
    "    if n <= 0:\n",
    "        return 0\n",
    "    elif n == 1:\n",
    "        return 1\n",
    "    # Recursive case:\n",
    "    else:\n",
    "        return fibonacci(n - 1) + fibonacci(n - 2)\n",
    "\n",
    "# Example usage:\n",
    "n = 10  # Change this to compute a different Fibonacci number.\n",
    "result = fibonacci(n)\n",
    "print(f\"The {n}-th Fibonacci number is {result}\")\n"
   ]
  },
  {
   "cell_type": "markdown",
   "id": "60daa2ea",
   "metadata": {},
   "source": [
    "13) Create a recursive function to find the sum of all the elements in a given list.\n",
    "#### Solution:"
   ]
  },
  {
   "cell_type": "code",
   "execution_count": 25,
   "id": "5d2c101d",
   "metadata": {},
   "outputs": [
    {
     "name": "stdout",
     "output_type": "stream",
     "text": [
      "The sum of the elements in the list is 15\n"
     ]
    }
   ],
   "source": [
    "def recursive_sum(lst):\n",
    "    # Base case: If the list is empty, return 0.\n",
    "    if not lst:\n",
    "        return 0\n",
    "    # Recursive case: Return the first element plus the sum of the rest of the list.\n",
    "    else:\n",
    "        return lst[0] + recursive_sum(lst[1:])\n",
    "\n",
    "# Example usage:\n",
    "my_list = [1, 2, 3, 4, 5]\n",
    "result = recursive_sum(my_list)\n",
    "print(f\"The sum of the elements in the list is {result}\")\n"
   ]
  },
  {
   "cell_type": "markdown",
   "id": "66112b13",
   "metadata": {},
   "source": [
    "14) Write a recursive function to determine whether a given string is a palindrome.\n",
    "#### Solution:"
   ]
  },
  {
   "cell_type": "code",
   "execution_count": 26,
   "id": "56b4ec13",
   "metadata": {},
   "outputs": [
    {
     "name": "stdout",
     "output_type": "stream",
     "text": [
      "'racecar' is a palindrome: True\n",
      "'hello' is a palindrome: False\n"
     ]
    }
   ],
   "source": [
    "def is_palindrome(s):\n",
    "    # Base case: If the string is empty or has only one character, it's a palindrome.\n",
    "    if len(s) <= 1:\n",
    "        return True\n",
    "    \n",
    "    # Compare the first and last characters.\n",
    "    if s[0] != s[-1]:\n",
    "        return False\n",
    "    \n",
    "    # Recursive case: Check the substring between the first and last characters.\n",
    "    return is_palindrome(s[1:-1])\n",
    "\n",
    "# Example usage:\n",
    "test_string1 = \"racecar\"\n",
    "test_string2 = \"hello\"\n",
    "print(f\"'{test_string1}' is a palindrome: {is_palindrome(test_string1)}\")\n",
    "print(f\"'{test_string2}' is a palindrome: {is_palindrome(test_string2)}\")\n"
   ]
  },
  {
   "cell_type": "markdown",
   "id": "007a9ac4",
   "metadata": {},
   "source": [
    "15) Implement a recursive function to find the greatest common divisor (GCD) of two positive integers.\n",
    "#### Solution:"
   ]
  },
  {
   "cell_type": "code",
   "execution_count": 27,
   "id": "af7fd62e",
   "metadata": {},
   "outputs": [
    {
     "name": "stdout",
     "output_type": "stream",
     "text": [
      "The GCD of 48 and 18 is 6\n"
     ]
    }
   ],
   "source": [
    "def gcd(a, b):\n",
    "    # Base case: If b is 0, then GCD(a, b) is a.\n",
    "    if b == 0:\n",
    "        return a\n",
    "    \n",
    "    # Recursive case: Compute GCD(b, a % b).\n",
    "    return gcd(b, a % b)\n",
    "\n",
    "# Example usage:\n",
    "num1 = 48\n",
    "num2 = 18\n",
    "result = gcd(num1, num2)\n",
    "print(f\"The GCD of {num1} and {num2} is {result}\")\n"
   ]
  },
  {
   "cell_type": "code",
   "execution_count": null,
   "id": "abddda76",
   "metadata": {},
   "outputs": [],
   "source": []
  }
 ],
 "metadata": {
  "kernelspec": {
   "display_name": "Python 3 (ipykernel)",
   "language": "python",
   "name": "python3"
  },
  "language_info": {
   "codemirror_mode": {
    "name": "ipython",
    "version": 3
   },
   "file_extension": ".py",
   "mimetype": "text/x-python",
   "name": "python",
   "nbconvert_exporter": "python",
   "pygments_lexer": "ipython3",
   "version": "3.9.13"
  }
 },
 "nbformat": 4,
 "nbformat_minor": 5
}
