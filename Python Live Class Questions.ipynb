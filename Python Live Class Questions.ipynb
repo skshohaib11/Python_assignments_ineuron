{
 "cells": [
  {
   "cell_type": "raw",
   "id": "e4623bdd",
   "metadata": {},
   "source": [
    "# q1:print\n",
    "\n",
    "ineuron\n",
    "ineuron ineuron\n",
    "ineuron ineuron ineuron\n",
    "ineuron ineuron ineuron\n"
   ]
  },
  {
   "cell_type": "code",
   "execution_count": 183,
   "id": "da3bd291",
   "metadata": {},
   "outputs": [
    {
     "name": "stdout",
     "output_type": "stream",
     "text": [
      "ineuron \n",
      "ineuron ineuron \n",
      "ineuron ineuron ineuron \n",
      "ineuron ineuron ineuron ineuron \n"
     ]
    }
   ],
   "source": [
    "for i in range(1, 5):\n",
    "    for j in range(i):\n",
    "        print(\"ineuron\", end=\" \")\n",
    "    print()\n",
    "\n",
    "    \n",
    "        "
   ]
  },
  {
   "cell_type": "raw",
   "id": "ee1d3fca",
   "metadata": {},
   "source": [
    "q2:print\n",
    "           ineuron\n",
    "    ineuron       ineuron\n",
    "ineuron    ineuron        ineuron\n",
    "    ineuron       ineuron\n",
    "            ineuron"
   ]
  },
  {
   "cell_type": "code",
   "execution_count": 184,
   "id": "6fecc927",
   "metadata": {},
   "outputs": [
    {
     "name": "stdout",
     "output_type": "stream",
     "text": [
      "          ineuron \n",
      "        ineuron ineuron ineuron \n",
      "      ineuron ineuron ineuron ineuron ineuron \n",
      "    ineuron ineuron ineuron ineuron ineuron ineuron ineuron \n",
      "  ineuron ineuron ineuron ineuron ineuron ineuron ineuron ineuron ineuron \n",
      "    ineuron ineuron ineuron ineuron ineuron ineuron ineuron \n",
      "      ineuron ineuron ineuron ineuron ineuron \n",
      "        ineuron ineuron ineuron \n",
      "          ineuron \n"
     ]
    }
   ],
   "source": [
    "n = 5\n",
    "for i in range(n-1):\n",
    "    for j in range(i,n):\n",
    "        print(\" \", end =\" \")\n",
    "    for j in range(i):\n",
    "        print(\"ineuron\",end = \" \")\n",
    "    for j in range(i+1):\n",
    "        print(\"ineuron\", end = \" \")\n",
    "    print()\n",
    "for i in range(n):\n",
    "    for j in range(i+1):\n",
    "        print(\" \", end =\" \")\n",
    "    for j in range(i,n-1):\n",
    "        print(\"ineuron\",end = \" \")\n",
    "    for j in range(i,n):\n",
    "        print(\"ineuron\", end =\" \")\n",
    "    print()\n",
    "\n"
   ]
  },
  {
   "cell_type": "code",
   "execution_count": 185,
   "id": "d7483ccf",
   "metadata": {},
   "outputs": [],
   "source": [
    "#Data\n",
    "L = [[1,2,3,4],(2,3,4,5,6),(3,4,5,6,7),set([23,4,5,45,4,4,5,45,45,4,5]),{\"k1\" :\"Shohaib\" ,\"k2\":\"ineuron\",\"k3\":\"Shaikh\",3:6,7:8},[\"ineuron\",\"data science\"]]"
   ]
  },
  {
   "cell_type": "code",
   "execution_count": 186,
   "id": "68043276",
   "metadata": {},
   "outputs": [
    {
     "name": "stdout",
     "output_type": "stream",
     "text": [
      "[1, 2, 3, 4]\n",
      "['ineuron', 'data science']\n"
     ]
    }
   ],
   "source": [
    "#try to extract all the list entity.\n",
    "for i in L:\n",
    "    if type(i) == list:\n",
    "        print(i)"
   ]
  },
  {
   "cell_type": "code",
   "execution_count": 187,
   "id": "457aa30a",
   "metadata": {},
   "outputs": [
    {
     "name": "stdout",
     "output_type": "stream",
     "text": [
      "{'k1': 'Shohaib', 'k2': 'ineuron', 'k3': 'Shaikh', 3: 6, 7: 8}\n"
     ]
    }
   ],
   "source": [
    "#try to extract all the dictionary entities\n",
    "for i in L:\n",
    "    if type(i) == dict:\n",
    "        print(i)"
   ]
  },
  {
   "cell_type": "code",
   "execution_count": 188,
   "id": "ab347047",
   "metadata": {},
   "outputs": [
    {
     "name": "stdout",
     "output_type": "stream",
     "text": [
      "(2, 3, 4, 5, 6)\n",
      "(3, 4, 5, 6, 7)\n"
     ]
    }
   ],
   "source": [
    "#try to extract all the tuples entities\n",
    "for i in L:\n",
    "    if type(i) == tuple:\n",
    "        print(i)"
   ]
  },
  {
   "cell_type": "code",
   "execution_count": 189,
   "id": "24b8ad3c",
   "metadata": {},
   "outputs": [
    {
     "name": "stdout",
     "output_type": "stream",
     "text": [
      "1\n",
      "2\n",
      "3\n",
      "4\n",
      "2\n",
      "3\n",
      "4\n",
      "5\n",
      "6\n",
      "3\n",
      "4\n",
      "5\n",
      "6\n",
      "7\n",
      "45\n",
      "4\n",
      "5\n",
      "23\n",
      "3\n",
      "7\n",
      "6\n",
      "8\n"
     ]
    }
   ],
   "source": [
    "#try to extract all the numerical data it may be a part of dict key and values:\n",
    "\n",
    "for i in L:\n",
    "    if (type(i) == list or type(i) == tuple or type(i) == set):\n",
    "        for j in i:\n",
    "            if type(j) == int:\n",
    "                print(j)\n",
    "    elif type(i) == dict:\n",
    "        for k in i.keys():\n",
    "            if type(k) == int:\n",
    "                print(k)\n",
    "        for l in i.values():\n",
    "            if type(l) == int:\n",
    "                print(l)\n",
    "         \n",
    "        "
   ]
  },
  {
   "cell_type": "code",
   "execution_count": 190,
   "id": "ffe52b12",
   "metadata": {},
   "outputs": [
    {
     "name": "stdout",
     "output_type": "stream",
     "text": [
      "The Summation of all numeric integers is: 156\n"
     ]
    }
   ],
   "source": [
    "#try to give a summation of all the numeric data\n",
    "summation1 = 0\n",
    "summation2 = 0\n",
    "summation3 = 0\n",
    "\n",
    "for i in L:\n",
    "    if type(i) == list or type(i) == tuple or type(i) == set:\n",
    "        for j in i:\n",
    "            if type(j) == int:\n",
    "                summation1 = summation1 + j\n",
    "    if type(i) == dict:\n",
    "        for k in i.keys():\n",
    "            if type(k) == int:\n",
    "                summation2 = summation2 + k\n",
    "        for l in i.values():\n",
    "            if type(l) == int:\n",
    "                summation3 = summation3 + l\n",
    "print(\"The Summation of all numeric integers is:\",summation1 + summation2 + summation3)\n",
    "            "
   ]
  },
  {
   "cell_type": "code",
   "execution_count": 191,
   "id": "21a2c538",
   "metadata": {},
   "outputs": [
    {
     "data": {
      "text/plain": [
       "[1, 3]"
      ]
     },
     "execution_count": 191,
     "metadata": {},
     "output_type": "execute_result"
    }
   ],
   "source": [
    "#try to filter out all the odd values out of all numeric data which is the part of a list\n",
    "odd_numbers_list= []\n",
    "for i in L:\n",
    "    if type(i) == list:\n",
    "        for j in i:\n",
    "            if type(j) == int and j%2 != 0:\n",
    "                odd_numbers_list.append(j)\n",
    "                \n",
    "odd_numbers_list\n",
    "                "
   ]
  },
  {
   "cell_type": "code",
   "execution_count": 192,
   "id": "37e80acd",
   "metadata": {},
   "outputs": [
    {
     "name": "stdout",
     "output_type": "stream",
     "text": [
      "ineuron\n",
      "ineuron\n"
     ]
    }
   ],
   "source": [
    "#try to extract ineuron out of this data\n",
    "for i in L:\n",
    "    if type(i) == list or type(i) == tuple or type(i) == set:\n",
    "        for j in i:\n",
    "            if j == 'ineuron':\n",
    "                print(j)\n",
    "    if type(i) == dict:\n",
    "        for k in i.keys():\n",
    "            if k == \"ineuron\":\n",
    "                print(k)\n",
    "        for v in i.values():\n",
    "            if v == 'ineuron':\n",
    "                print(v)\n",
    "                "
   ]
  },
  {
   "cell_type": "code",
   "execution_count": 193,
   "id": "29ebcf33",
   "metadata": {},
   "outputs": [
    {
     "name": "stdout",
     "output_type": "stream",
     "text": [
      "1 : 1\n",
      "2 : 2\n",
      "3 : 4\n",
      "4 : 4\n",
      "5 : 3\n",
      "6 : 3\n",
      "7 : 2\n",
      "Shaikh : 1\n",
      "8 : 1\n",
      "data science : 1\n",
      "k1 : 1\n",
      "45 : 1\n",
      "k2 : 1\n",
      "ineuron : 2\n",
      "23 : 1\n",
      "Shohaib : 1\n",
      "k3 : 1\n"
     ]
    }
   ],
   "source": [
    "#try to find out a number of occurance of all the data:\n",
    "num_of_occurance =[]\n",
    "\n",
    "for i in L:\n",
    "    if type(i) == list or type(i) == tuple or type(i) == set:\n",
    "        num_of_occurance.extend(i)\n",
    "    elif type(i) == dict:\n",
    "        num_of_occurance.extend(i.keys())\n",
    "        num_of_occurance.extend(i.values())\n",
    "    elif type(i) == list:\n",
    "        num_of_occurance.append(i)\n",
    "for j in set(num_of_occurance):\n",
    "    print(j,\":\",num_of_occurance.count(j))\n",
    "   \n",
    "        \n",
    "            \n",
    "        \n",
    "        "
   ]
  },
  {
   "cell_type": "code",
   "execution_count": 194,
   "id": "b9f32578",
   "metadata": {},
   "outputs": [
    {
     "name": "stdout",
     "output_type": "stream",
     "text": [
      "The total number of keys are:  dict_keys(['k1', 'k2', 'k3', 3, 7])\n"
     ]
    }
   ],
   "source": [
    "#try to find out number of keys in dictionary elements\n",
    "for i in L:\n",
    "    if type(i) == dict:\n",
    "        print(\"The total number of keys are: \", i.keys())"
   ]
  },
  {
   "cell_type": "code",
   "execution_count": 195,
   "id": "bd534dfa",
   "metadata": {},
   "outputs": [
    {
     "name": "stdout",
     "output_type": "stream",
     "text": [
      "Shohaib\n",
      "ineuron\n",
      "Shaikh\n",
      "ineuron\n",
      "data science\n"
     ]
    }
   ],
   "source": [
    "#try to filter out all the string data\n",
    "for i in L:\n",
    "    if type(i) == list or type(i) == tuple or type(i) == set:\n",
    "        for j in i:\n",
    "            if type(j) == str:\n",
    "                print(j)\n",
    "    if type(i) == dict:\n",
    "        for k in i.keys():\n",
    "            if k == str:\n",
    "                print(k)\n",
    "        for l in i.values():\n",
    "            if type(l) == str:\n",
    "                print(l)"
   ]
  },
  {
   "cell_type": "code",
   "execution_count": 197,
   "id": "3b11d083",
   "metadata": {},
   "outputs": [
    {
     "data": {
      "text/plain": [
       "908605071360000"
      ]
     },
     "execution_count": 197,
     "metadata": {},
     "output_type": "execute_result"
    }
   ],
   "source": [
    "#try to find out multiplication of all the numeric value in the indivisual collections inside the dataset\n",
    "mult_collection= 1\n",
    "for i in L:\n",
    "    if type(i) == list or type(i) == tuple or type(i) == set:\n",
    "        for j in i:\n",
    "            if type(j) == int:\n",
    "                mult_collection = mult_collection * j\n",
    "    if type(i) == dict:\n",
    "        for k in i.keys():\n",
    "            if type(k) == int:\n",
    "                mult_collection = mult_collection * k\n",
    "        for l in i.values():\n",
    "            if type(l) == int:\n",
    "                mult_collection = mult_collection * l\n",
    "                \n",
    "                \n",
    "mult_collection               "
   ]
  },
  {
   "cell_type": "code",
   "execution_count": 198,
   "id": "ba303b74",
   "metadata": {},
   "outputs": [],
   "source": [
    "#try to unwrap all the collection inside collection and create a flat list:\n",
    "unwrapped_collection = []\n",
    "for i in L:\n",
    "    if type(i) == list or type(i) == tuple or type(i) == set:\n",
    "        unwrapped_collection.extend(i)\n",
    "    if type(i) == dict:\n",
    "        unwrapped_collection.extend(i.keys())\n",
    "        unwrapped_collection.extend(i.values())"
   ]
  },
  {
   "cell_type": "code",
   "execution_count": 199,
   "id": "d2822fcd",
   "metadata": {},
   "outputs": [
    {
     "data": {
      "text/plain": [
       "[1,\n",
       " 2,\n",
       " 3,\n",
       " 4,\n",
       " 2,\n",
       " 3,\n",
       " 4,\n",
       " 5,\n",
       " 6,\n",
       " 3,\n",
       " 4,\n",
       " 5,\n",
       " 6,\n",
       " 7,\n",
       " 45,\n",
       " 4,\n",
       " 5,\n",
       " 23,\n",
       " 'k1',\n",
       " 'k2',\n",
       " 'k3',\n",
       " 3,\n",
       " 7,\n",
       " 'Shohaib',\n",
       " 'ineuron',\n",
       " 'Shaikh',\n",
       " 6,\n",
       " 8,\n",
       " 'ineuron',\n",
       " 'data science']"
      ]
     },
     "execution_count": 199,
     "metadata": {},
     "output_type": "execute_result"
    }
   ],
   "source": [
    "unwrapped_collection"
   ]
  }
 ],
 "metadata": {
  "kernelspec": {
   "display_name": "Python 3 (ipykernel)",
   "language": "python",
   "name": "python3"
  },
  "language_info": {
   "codemirror_mode": {
    "name": "ipython",
    "version": 3
   },
   "file_extension": ".py",
   "mimetype": "text/x-python",
   "name": "python",
   "nbconvert_exporter": "python",
   "pygments_lexer": "ipython3",
   "version": "3.9.13"
  }
 },
 "nbformat": 4,
 "nbformat_minor": 5
}
